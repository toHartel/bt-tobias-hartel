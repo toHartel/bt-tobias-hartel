{
 "cells": [
  {
   "cell_type": "markdown",
   "metadata": {},
   "source": [
    "># **Dataset 1: University of Jordan**\n",
    "\n",
    "In this notebook we'll go through the entire process of exploratory data analysis, synthetic data generation (SDG) and evaluation for Dataset 1: Kalboard360 LMS.\n",
    "\n",
    "The evaluation approach that is used was suggested by  Liu et al [1]. The goal is to provide a comprehensive evaluation for synthetic tabular data in learning analytics that encompasses utility, resemblance and privacy metrics. The dataset used in this notebook contains 480 student records from the University of Jordan and the data was collected from a LMS called Kalboard 360. For more details on the dataset see the papers [2, 3].\n",
    "\n",
    "Source: https://www.kaggle.com/datasets/aljarah/xAPI-Edu-Data/data\n",
    "\n",
    "<br>\n",
    "\n",
    "\n",
    "**References:**\n",
    "\n",
    "[1] Qinyi Liu, Mohammad Khalil, Ronas Shakya, and Jelena Jovanovic. 2024.\n",
    "Scaling While Privacy Preserving: A Comprehensive Synthetic Tabular\n",
    "Data Generation and Evaluation in Learning Analytics. In The 14th Learning\n",
    "Analytics and Knowledge Conference (LAK ’24), March 18–22, 2024, Kyoto,\n",
    "Japan. ACM, New York, NY, USA, 12 pages. https://doi.org/10.1145/3636555.\n",
    "3636921\n",
    "\n",
    "[2] Amrieh, E. A., Hamtini, T., & Aljarah, I. (2016). Mining Educational Data to Predict Student’s academic Performance using Ensemble Methods. International Journal of Database Theory and Application, 9(8), 119-136.\n",
    "\n",
    "[3] Amrieh, E. A., Hamtini, T., & Aljarah, I. (2015, November). Preprocessing and analyzing educational data set using X-API for improving student's performance. In Applied Electrical Engineering and Computing Technologies (AEECT), 2015 IEEE Jordan Conference on (pp. 1-5). IEEE\n"
   ]
  },
  {
   "cell_type": "markdown",
   "metadata": {},
   "source": [
    "#### **Import Packages**\n",
    "First, import the necessary packages."
   ]
  },
  {
   "cell_type": "code",
   "execution_count": 1,
   "metadata": {},
   "outputs": [],
   "source": [
    "import multiprocessing\n",
    "import subprocess\n",
    "import pandas as pd\n",
    "from sklearn.model_selection import train_test_split\n",
    "import seaborn as sns\n",
    "import os\n",
    "import sys\n",
    "\n",
    "sys.path.append(os.path.abspath(\"../src\"))\n",
    "\n",
    "from generation.data_synthesizer import ds_generate_data\n",
    "from generation.synthetic_data_vault import sdv_generate_data\n",
    "from evaluation.utility import run_utility_eval\n",
    "from evaluation.resemblance import pairwise_correlation_diff, jsd, wd\n",
    "from evaluation.privacy import dcr, nndr, mia\n",
    "from sklearn.preprocessing import LabelEncoder"
   ]
  },
  {
   "cell_type": "markdown",
   "metadata": {},
   "source": [
    "#### **Exploratory Data Analysis**\n",
    "\n",
    "Let's take a look at the dataset."
   ]
  },
  {
   "cell_type": "code",
   "execution_count": 2,
   "metadata": {},
   "outputs": [
    {
     "data": {
      "text/html": [
       "<div>\n",
       "<style scoped>\n",
       "    .dataframe tbody tr th:only-of-type {\n",
       "        vertical-align: middle;\n",
       "    }\n",
       "\n",
       "    .dataframe tbody tr th {\n",
       "        vertical-align: top;\n",
       "    }\n",
       "\n",
       "    .dataframe thead th {\n",
       "        text-align: right;\n",
       "    }\n",
       "</style>\n",
       "<table border=\"1\" class=\"dataframe\">\n",
       "  <thead>\n",
       "    <tr style=\"text-align: right;\">\n",
       "      <th></th>\n",
       "      <th>gender</th>\n",
       "      <th>NationalITy</th>\n",
       "      <th>PlaceofBirth</th>\n",
       "      <th>StageID</th>\n",
       "      <th>GradeID</th>\n",
       "      <th>SectionID</th>\n",
       "      <th>Topic</th>\n",
       "      <th>Semester</th>\n",
       "      <th>Relation</th>\n",
       "      <th>raisedhands</th>\n",
       "      <th>VisITedResources</th>\n",
       "      <th>AnnouncementsView</th>\n",
       "      <th>Discussion</th>\n",
       "      <th>ParentAnsweringSurvey</th>\n",
       "      <th>ParentschoolSatisfaction</th>\n",
       "      <th>StudentAbsenceDays</th>\n",
       "      <th>Class</th>\n",
       "    </tr>\n",
       "  </thead>\n",
       "  <tbody>\n",
       "    <tr>\n",
       "      <th>0</th>\n",
       "      <td>M</td>\n",
       "      <td>KW</td>\n",
       "      <td>KuwaIT</td>\n",
       "      <td>lowerlevel</td>\n",
       "      <td>G-04</td>\n",
       "      <td>A</td>\n",
       "      <td>IT</td>\n",
       "      <td>F</td>\n",
       "      <td>Father</td>\n",
       "      <td>15</td>\n",
       "      <td>16</td>\n",
       "      <td>2</td>\n",
       "      <td>20</td>\n",
       "      <td>Yes</td>\n",
       "      <td>Good</td>\n",
       "      <td>Under-7</td>\n",
       "      <td>M</td>\n",
       "    </tr>\n",
       "    <tr>\n",
       "      <th>1</th>\n",
       "      <td>M</td>\n",
       "      <td>KW</td>\n",
       "      <td>KuwaIT</td>\n",
       "      <td>lowerlevel</td>\n",
       "      <td>G-04</td>\n",
       "      <td>A</td>\n",
       "      <td>IT</td>\n",
       "      <td>F</td>\n",
       "      <td>Father</td>\n",
       "      <td>20</td>\n",
       "      <td>20</td>\n",
       "      <td>3</td>\n",
       "      <td>25</td>\n",
       "      <td>Yes</td>\n",
       "      <td>Good</td>\n",
       "      <td>Under-7</td>\n",
       "      <td>M</td>\n",
       "    </tr>\n",
       "    <tr>\n",
       "      <th>2</th>\n",
       "      <td>M</td>\n",
       "      <td>KW</td>\n",
       "      <td>KuwaIT</td>\n",
       "      <td>lowerlevel</td>\n",
       "      <td>G-04</td>\n",
       "      <td>A</td>\n",
       "      <td>IT</td>\n",
       "      <td>F</td>\n",
       "      <td>Father</td>\n",
       "      <td>10</td>\n",
       "      <td>7</td>\n",
       "      <td>0</td>\n",
       "      <td>30</td>\n",
       "      <td>No</td>\n",
       "      <td>Bad</td>\n",
       "      <td>Above-7</td>\n",
       "      <td>L</td>\n",
       "    </tr>\n",
       "    <tr>\n",
       "      <th>3</th>\n",
       "      <td>M</td>\n",
       "      <td>KW</td>\n",
       "      <td>KuwaIT</td>\n",
       "      <td>lowerlevel</td>\n",
       "      <td>G-04</td>\n",
       "      <td>A</td>\n",
       "      <td>IT</td>\n",
       "      <td>F</td>\n",
       "      <td>Father</td>\n",
       "      <td>30</td>\n",
       "      <td>25</td>\n",
       "      <td>5</td>\n",
       "      <td>35</td>\n",
       "      <td>No</td>\n",
       "      <td>Bad</td>\n",
       "      <td>Above-7</td>\n",
       "      <td>L</td>\n",
       "    </tr>\n",
       "    <tr>\n",
       "      <th>4</th>\n",
       "      <td>M</td>\n",
       "      <td>KW</td>\n",
       "      <td>KuwaIT</td>\n",
       "      <td>lowerlevel</td>\n",
       "      <td>G-04</td>\n",
       "      <td>A</td>\n",
       "      <td>IT</td>\n",
       "      <td>F</td>\n",
       "      <td>Father</td>\n",
       "      <td>40</td>\n",
       "      <td>50</td>\n",
       "      <td>12</td>\n",
       "      <td>50</td>\n",
       "      <td>No</td>\n",
       "      <td>Bad</td>\n",
       "      <td>Above-7</td>\n",
       "      <td>M</td>\n",
       "    </tr>\n",
       "  </tbody>\n",
       "</table>\n",
       "</div>"
      ],
      "text/plain": [
       "  gender NationalITy PlaceofBirth     StageID GradeID SectionID Topic  \\\n",
       "0      M          KW       KuwaIT  lowerlevel    G-04         A    IT   \n",
       "1      M          KW       KuwaIT  lowerlevel    G-04         A    IT   \n",
       "2      M          KW       KuwaIT  lowerlevel    G-04         A    IT   \n",
       "3      M          KW       KuwaIT  lowerlevel    G-04         A    IT   \n",
       "4      M          KW       KuwaIT  lowerlevel    G-04         A    IT   \n",
       "\n",
       "  Semester Relation  raisedhands  VisITedResources  AnnouncementsView  \\\n",
       "0        F   Father           15                16                  2   \n",
       "1        F   Father           20                20                  3   \n",
       "2        F   Father           10                 7                  0   \n",
       "3        F   Father           30                25                  5   \n",
       "4        F   Father           40                50                 12   \n",
       "\n",
       "   Discussion ParentAnsweringSurvey ParentschoolSatisfaction  \\\n",
       "0          20                   Yes                     Good   \n",
       "1          25                   Yes                     Good   \n",
       "2          30                    No                      Bad   \n",
       "3          35                    No                      Bad   \n",
       "4          50                    No                      Bad   \n",
       "\n",
       "  StudentAbsenceDays Class  \n",
       "0            Under-7     M  \n",
       "1            Under-7     M  \n",
       "2            Above-7     L  \n",
       "3            Above-7     L  \n",
       "4            Above-7     M  "
      ]
     },
     "execution_count": 2,
     "metadata": {},
     "output_type": "execute_result"
    }
   ],
   "source": [
    "data_path = \"../data/original_data/1_university_of_jordan/1_university_of_jordan.csv\"\n",
    "original_data = pd.read_csv(data_path)\n",
    "original_data.head()"
   ]
  },
  {
   "cell_type": "code",
   "execution_count": 3,
   "metadata": {},
   "outputs": [
    {
     "name": "stdout",
     "output_type": "stream",
     "text": [
      "<class 'pandas.core.frame.DataFrame'>\n",
      "RangeIndex: 480 entries, 0 to 479\n",
      "Data columns (total 17 columns):\n",
      " #   Column                    Non-Null Count  Dtype \n",
      "---  ------                    --------------  ----- \n",
      " 0   gender                    480 non-null    object\n",
      " 1   NationalITy               480 non-null    object\n",
      " 2   PlaceofBirth              480 non-null    object\n",
      " 3   StageID                   480 non-null    object\n",
      " 4   GradeID                   480 non-null    object\n",
      " 5   SectionID                 480 non-null    object\n",
      " 6   Topic                     480 non-null    object\n",
      " 7   Semester                  480 non-null    object\n",
      " 8   Relation                  480 non-null    object\n",
      " 9   raisedhands               480 non-null    int64 \n",
      " 10  VisITedResources          480 non-null    int64 \n",
      " 11  AnnouncementsView         480 non-null    int64 \n",
      " 12  Discussion                480 non-null    int64 \n",
      " 13  ParentAnsweringSurvey     480 non-null    object\n",
      " 14  ParentschoolSatisfaction  480 non-null    object\n",
      " 15  StudentAbsenceDays        480 non-null    object\n",
      " 16  Class                     480 non-null    object\n",
      "dtypes: int64(4), object(13)\n",
      "memory usage: 63.9+ KB\n"
     ]
    }
   ],
   "source": [
    "original_data.info()"
   ]
  },
  {
   "cell_type": "code",
   "execution_count": 4,
   "metadata": {},
   "outputs": [
    {
     "data": {
      "text/plain": [
       "gender                      0\n",
       "NationalITy                 0\n",
       "PlaceofBirth                0\n",
       "StageID                     0\n",
       "GradeID                     0\n",
       "SectionID                   0\n",
       "Topic                       0\n",
       "Semester                    0\n",
       "Relation                    0\n",
       "raisedhands                 0\n",
       "VisITedResources            0\n",
       "AnnouncementsView           0\n",
       "Discussion                  0\n",
       "ParentAnsweringSurvey       0\n",
       "ParentschoolSatisfaction    0\n",
       "StudentAbsenceDays          0\n",
       "Class                       0\n",
       "dtype: int64"
      ]
     },
     "execution_count": 4,
     "metadata": {},
     "output_type": "execute_result"
    }
   ],
   "source": [
    "original_data.isnull().sum()"
   ]
  },
  {
   "cell_type": "markdown",
   "metadata": {},
   "source": [
    "Great, no null values!"
   ]
  },
  {
   "cell_type": "code",
   "execution_count": 5,
   "metadata": {},
   "outputs": [
    {
     "data": {
      "text/plain": [
       "gender                       2\n",
       "NationalITy                 14\n",
       "PlaceofBirth                14\n",
       "StageID                      3\n",
       "GradeID                     10\n",
       "SectionID                    3\n",
       "Topic                       12\n",
       "Semester                     2\n",
       "Relation                     2\n",
       "raisedhands                 82\n",
       "VisITedResources            89\n",
       "AnnouncementsView           88\n",
       "Discussion                  90\n",
       "ParentAnsweringSurvey        2\n",
       "ParentschoolSatisfaction     2\n",
       "StudentAbsenceDays           2\n",
       "Class                        3\n",
       "dtype: int64"
      ]
     },
     "execution_count": 5,
     "metadata": {},
     "output_type": "execute_result"
    }
   ],
   "source": [
    "original_data.nunique()"
   ]
  },
  {
   "cell_type": "markdown",
   "metadata": {},
   "source": [
    "Save categorical columns for encoding"
   ]
  },
  {
   "cell_type": "code",
   "execution_count": 26,
   "metadata": {},
   "outputs": [
    {
     "name": "stdout",
     "output_type": "stream",
     "text": [
      "gender ['M' 'F']\n",
      "NationalITy ['KW' 'lebanon' 'Egypt' 'SaudiArabia' 'USA' 'Jordan' 'venzuela' 'Iran'\n",
      " 'Tunis' 'Morocco' 'Syria' 'Palestine' 'Iraq' 'Lybia']\n",
      "PlaceofBirth ['KuwaIT' 'lebanon' 'Egypt' 'SaudiArabia' 'USA' 'Jordan' 'venzuela' 'Iran'\n",
      " 'Tunis' 'Morocco' 'Syria' 'Iraq' 'Palestine' 'Lybia']\n",
      "StageID ['lowerlevel' 'MiddleSchool' 'HighSchool']\n",
      "GradeID ['G-04' 'G-07' 'G-08' 'G-06' 'G-05' 'G-09' 'G-12' 'G-11' 'G-10' 'G-02']\n",
      "SectionID ['A' 'B' 'C']\n",
      "Topic ['IT' 'Math' 'Arabic' 'Science' 'English' 'Quran' 'Spanish' 'French'\n",
      " 'History' 'Biology' 'Chemistry' 'Geology']\n",
      "Semester ['F' 'S']\n",
      "Relation ['Father' 'Mum']\n",
      "ParentAnsweringSurvey ['Yes' 'No']\n",
      "ParentschoolSatisfaction ['Good' 'Bad']\n",
      "StudentAbsenceDays ['Under-7' 'Above-7']\n",
      "Class ['M' 'L' 'H']\n"
     ]
    }
   ],
   "source": [
    "# Check categorical columns\n",
    "categorical_cols = original_data.select_dtypes(include=['object']).columns\n",
    "for col in categorical_cols:\n",
    "    print(col, original_data[col].unique())"
   ]
  },
  {
   "cell_type": "markdown",
   "metadata": {},
   "source": [
    "Gender distribution:"
   ]
  },
  {
   "cell_type": "code",
   "execution_count": 27,
   "metadata": {},
   "outputs": [
    {
     "data": {
      "text/plain": [
       "<Axes: xlabel='gender', ylabel='Count'>"
      ]
     },
     "execution_count": 27,
     "metadata": {},
     "output_type": "execute_result"
    },
    {
     "data": {
      "image/png": "[encoded data removed]",
      "text/plain": [
       "<Figure size 640x480 with 1 Axes>"
      ]
     },
     "metadata": {},
     "output_type": "display_data"
    }
   ],
   "source": [
    "sns.histplot(original_data[\"gender\"])"
   ]
  },
  {
   "cell_type": "markdown",
   "metadata": {},
   "source": [
    "Let's find out how the results ('Class') are distributed"
   ]
  },
  {
   "cell_type": "code",
   "execution_count": 33,
   "metadata": {},
   "outputs": [
    {
     "data": {
      "text/plain": [
       "<Axes: xlabel='Class', ylabel='Count'>"
      ]
     },
     "execution_count": 33,
     "metadata": {},
     "output_type": "execute_result"
    },
    {
     "data": {
      "image/png": "[encoded data removed]",
      "text/plain": [
       "<Figure size 640x480 with 1 Axes>"
      ]
     },
     "metadata": {},
     "output_type": "display_data"
    }
   ],
   "source": [
    "# Check class distribution\n",
    "sns.histplot(original_data['Class'])"
   ]
  },
  {
   "cell_type": "markdown",
   "metadata": {},
   "source": [
    "#### **Synthetic Data Generation**\n",
    "\n",
    "Now we'll prepare for SDG and split up the original data into 30/70 test/train splits. If the splits were created earlier already, we will load the existing splits."
   ]
  },
  {
   "cell_type": "code",
   "execution_count": 34,
   "metadata": {},
   "outputs": [
    {
     "name": "stdout",
     "output_type": "stream",
     "text": [
      "Train and test data loaded.\n"
     ]
    }
   ],
   "source": [
    "# Set the path to the original data\n",
    "original_data_path = \"../data/original_data/1_university_of_jordan/\"\n",
    "train_file = os.path.join(original_data_path, \"train_data.csv\")\n",
    "test_file = os.path.join(original_data_path, \"test_data.csv\")\n",
    "\n",
    "# Check if the train and test data files already exist\n",
    "if os.path.isfile(train_file) and os.path.isfile(test_file):\n",
    "    train_data = pd.read_csv(train_file)\n",
    "    test_data = pd.read_csv(test_file)\n",
    "    print(\"Train and test data loaded.\")\n",
    "else:\n",
    "    # Split the data into train and test sets\n",
    "    train_data, test_data = train_test_split(original_data, test_size=0.3, random_state=42)\n",
    "    train_data.to_csv(train_file, index=False)\n",
    "    test_data.to_csv(test_file, index=False)\n",
    "    print(\"Train and test data saved.\")"
   ]
  },
  {
   "cell_type": "markdown",
   "metadata": {},
   "source": [
    "First check whether the synthetic datasets were already generated. If not, use the train split to train the SDG models and sample 5000 entries each. "
   ]
  },
  {
   "cell_type": "code",
   "execution_count": 38,
   "metadata": {},
   "outputs": [
    {
     "name": "stdout",
     "output_type": "stream",
     "text": [
      "Fit models and create synthetic data:\n",
      "synthpop...\n",
      "\n",
      "DataSynthesizer...\n",
      "================ Constructing Bayesian Network (BN) ================\n",
      "Adding ROOT Discussion\n",
      "Adding attribute Relation\n",
      "Adding attribute AnnouncementsView\n",
      "Adding attribute raisedhands\n",
      "Adding attribute Semester\n",
      "Adding attribute SectionID\n",
      "Adding attribute VisITedResources\n",
      "Adding attribute GradeID\n",
      "Adding attribute StudentAbsenceDays\n",
      "Adding attribute Class\n",
      "Adding attribute PlaceofBirth\n",
      "Adding attribute ParentAnsweringSurvey\n",
      "Adding attribute StageID\n",
      "Adding attribute Topic\n",
      "Adding attribute ParentschoolSatisfaction\n",
      "Adding attribute gender\n",
      "Adding attribute NationalITy\n",
      "========================== BN constructed ==========================\n",
      "\n",
      "SDV:\n",
      "Fitting copula_gan...\n",
      "\n",
      "Time taken to fit copula_gan: 9.33 seconds\n",
      "\n",
      "Fitting ctgan...\n",
      "\n",
      "Time taken to fit ctgan: 9.81 seconds\n",
      "\n",
      "Fitting tvae...\n",
      "\n",
      "Time taken to fit tvae: 2.20 seconds\n",
      "\n",
      "Fitting gaussian_copula...\n",
      "\n",
      "Time taken to fit gaussian_copula: 0.38 seconds\n",
      "\n",
      "\n",
      "Synthetic data generated.\n"
     ]
    }
   ],
   "source": [
    "# Set the start method of the multiprocessing module to 'fork' to avoid an error\n",
    "multiprocessing.set_start_method('fork', force=True)\n",
    "\n",
    "synth_path = \"../data/synthetic_data/1_university_of_jordan/\"\n",
    "csv_files = [file for file in os.listdir(synth_path) if file.endswith(\".csv\")]\n",
    "dataset_name = '1_university_of_jordan'\n",
    "\n",
    "# Number of samples to generate\n",
    "n = 5000\n",
    "\n",
    "if len(csv_files) == 0:\n",
    "\n",
    "    # Set the path to the train split\n",
    "    data_path = original_data_path + \"train_data.csv\"\n",
    "    # Set up arguments to pass to the R script\n",
    "    arguments = [data_path, str(n), dataset_name]\n",
    "\n",
    "    print(\"Fit models and create synthetic data:\")\n",
    "    print(\"synthpop...\")\n",
    "    result = subprocess.run(['Rscript', '../src/generation/synthpop.R',   *arguments], capture_output=True, text=True)\n",
    "\n",
    "    print(\"\\nDataSynthesizer...\")\n",
    "    ds_generate_data(data_path=data_path, num_samples=n, dataset_name=dataset_name)\n",
    "\n",
    "    print(\"\\nSDV:\")\n",
    "    sdv_generate_data(data_path=data_path, num_samples=n, dataset_name=dataset_name)\n",
    "\n",
    "    print(\"\\nSynthetic data generated.\")\n",
    "else:\n",
    "    print(\"Synthetic data already exists.\")"
   ]
  },
  {
   "cell_type": "markdown",
   "metadata": {},
   "source": [
    "Encode all categorical columns of both original (train+test) data and synthetic data using label encoding to prepare for utility evaluation."
   ]
  },
  {
   "cell_type": "code",
   "execution_count": 13,
   "metadata": {},
   "outputs": [],
   "source": [
    "# Load synthetic data\n",
    "synthpop = pd.read_csv(synth_path + \"synthpop.csv\")\n",
    "ds = pd.read_csv(synth_path + \"ds.csv\")\n",
    "tvae = pd.read_csv(synth_path + \"tvae.csv\")\n",
    "gaussian_copula = pd.read_csv(synth_path + \"gaussian_copula.csv\")\n",
    "copula_gan = pd.read_csv(synth_path + \"copula_gan.csv\")\n",
    "ctgan = pd.read_csv(synth_path + \"ctgan.csv\")\n",
    "\n",
    "# Encode categorical columns as integers\n",
    "label_encoders = {}\n",
    "for col in categorical_cols:\n",
    "    le = LabelEncoder()\n",
    "    train_data[col] = le.fit_transform(train_data[col])\n",
    "    test_data[col] = le.fit_transform(test_data[col])\n",
    "\n",
    "    synthpop[col] = le.fit_transform(synthpop[col])\n",
    "    ds[col] = le.fit_transform(ds[col])\n",
    "    tvae[col] = le.fit_transform(tvae[col])\n",
    "    gaussian_copula[col] = le.fit_transform(gaussian_copula[col])\n",
    "    copula_gan[col] = le.fit_transform(copula_gan[col])\n",
    "    ctgan[col] = le.fit_transform(ctgan[col])\n",
    "\n",
    "    label_encoders[col] = le"
   ]
  },
  {
   "cell_type": "code",
   "execution_count": 14,
   "metadata": {},
   "outputs": [
    {
     "data": {
      "text/html": [
       "<div>\n",
       "<style scoped>\n",
       "    .dataframe tbody tr th:only-of-type {\n",
       "        vertical-align: middle;\n",
       "    }\n",
       "\n",
       "    .dataframe tbody tr th {\n",
       "        vertical-align: top;\n",
       "    }\n",
       "\n",
       "    .dataframe thead th {\n",
       "        text-align: right;\n",
       "    }\n",
       "</style>\n",
       "<table border=\"1\" class=\"dataframe\">\n",
       "  <thead>\n",
       "    <tr style=\"text-align: right;\">\n",
       "      <th></th>\n",
       "      <th>gender</th>\n",
       "      <th>NationalITy</th>\n",
       "      <th>PlaceofBirth</th>\n",
       "      <th>StageID</th>\n",
       "      <th>GradeID</th>\n",
       "      <th>SectionID</th>\n",
       "      <th>Topic</th>\n",
       "      <th>Semester</th>\n",
       "      <th>Relation</th>\n",
       "      <th>raisedhands</th>\n",
       "      <th>VisITedResources</th>\n",
       "      <th>AnnouncementsView</th>\n",
       "      <th>Discussion</th>\n",
       "      <th>ParentAnsweringSurvey</th>\n",
       "      <th>ParentschoolSatisfaction</th>\n",
       "      <th>StudentAbsenceDays</th>\n",
       "      <th>Class</th>\n",
       "    </tr>\n",
       "  </thead>\n",
       "  <tbody>\n",
       "    <tr>\n",
       "      <th>0</th>\n",
       "      <td>1</td>\n",
       "      <td>3</td>\n",
       "      <td>3</td>\n",
       "      <td>1</td>\n",
       "      <td>5</td>\n",
       "      <td>0</td>\n",
       "      <td>5</td>\n",
       "      <td>1</td>\n",
       "      <td>1</td>\n",
       "      <td>70</td>\n",
       "      <td>83</td>\n",
       "      <td>70</td>\n",
       "      <td>23</td>\n",
       "      <td>1</td>\n",
       "      <td>1</td>\n",
       "      <td>1</td>\n",
       "      <td>2</td>\n",
       "    </tr>\n",
       "    <tr>\n",
       "      <th>1</th>\n",
       "      <td>0</td>\n",
       "      <td>3</td>\n",
       "      <td>3</td>\n",
       "      <td>2</td>\n",
       "      <td>2</td>\n",
       "      <td>0</td>\n",
       "      <td>3</td>\n",
       "      <td>0</td>\n",
       "      <td>1</td>\n",
       "      <td>21</td>\n",
       "      <td>10</td>\n",
       "      <td>28</td>\n",
       "      <td>20</td>\n",
       "      <td>0</td>\n",
       "      <td>1</td>\n",
       "      <td>0</td>\n",
       "      <td>1</td>\n",
       "    </tr>\n",
       "    <tr>\n",
       "      <th>2</th>\n",
       "      <td>0</td>\n",
       "      <td>3</td>\n",
       "      <td>3</td>\n",
       "      <td>2</td>\n",
       "      <td>0</td>\n",
       "      <td>1</td>\n",
       "      <td>7</td>\n",
       "      <td>0</td>\n",
       "      <td>1</td>\n",
       "      <td>70</td>\n",
       "      <td>88</td>\n",
       "      <td>55</td>\n",
       "      <td>40</td>\n",
       "      <td>1</td>\n",
       "      <td>1</td>\n",
       "      <td>1</td>\n",
       "      <td>0</td>\n",
       "    </tr>\n",
       "    <tr>\n",
       "      <th>3</th>\n",
       "      <td>1</td>\n",
       "      <td>3</td>\n",
       "      <td>3</td>\n",
       "      <td>2</td>\n",
       "      <td>1</td>\n",
       "      <td>1</td>\n",
       "      <td>10</td>\n",
       "      <td>1</td>\n",
       "      <td>1</td>\n",
       "      <td>72</td>\n",
       "      <td>64</td>\n",
       "      <td>59</td>\n",
       "      <td>89</td>\n",
       "      <td>1</td>\n",
       "      <td>1</td>\n",
       "      <td>1</td>\n",
       "      <td>0</td>\n",
       "    </tr>\n",
       "    <tr>\n",
       "      <th>4</th>\n",
       "      <td>1</td>\n",
       "      <td>4</td>\n",
       "      <td>4</td>\n",
       "      <td>2</td>\n",
       "      <td>1</td>\n",
       "      <td>0</td>\n",
       "      <td>8</td>\n",
       "      <td>1</td>\n",
       "      <td>0</td>\n",
       "      <td>15</td>\n",
       "      <td>6</td>\n",
       "      <td>32</td>\n",
       "      <td>40</td>\n",
       "      <td>1</td>\n",
       "      <td>1</td>\n",
       "      <td>1</td>\n",
       "      <td>0</td>\n",
       "    </tr>\n",
       "  </tbody>\n",
       "</table>\n",
       "</div>"
      ],
      "text/plain": [
       "   gender  NationalITy  PlaceofBirth  StageID  GradeID  SectionID  Topic  \\\n",
       "0       1            3             3        1        5          0      5   \n",
       "1       0            3             3        2        2          0      3   \n",
       "2       0            3             3        2        0          1      7   \n",
       "3       1            3             3        2        1          1     10   \n",
       "4       1            4             4        2        1          0      8   \n",
       "\n",
       "   Semester  Relation  raisedhands  VisITedResources  AnnouncementsView  \\\n",
       "0         1         1           70                83                 70   \n",
       "1         0         1           21                10                 28   \n",
       "2         0         1           70                88                 55   \n",
       "3         1         1           72                64                 59   \n",
       "4         1         0           15                 6                 32   \n",
       "\n",
       "   Discussion  ParentAnsweringSurvey  ParentschoolSatisfaction  \\\n",
       "0          23                      1                         1   \n",
       "1          20                      0                         1   \n",
       "2          40                      1                         1   \n",
       "3          89                      1                         1   \n",
       "4          40                      1                         1   \n",
       "\n",
       "   StudentAbsenceDays  Class  \n",
       "0                   1      2  \n",
       "1                   0      1  \n",
       "2                   1      0  \n",
       "3                   1      0  \n",
       "4                   1      0  "
      ]
     },
     "execution_count": 14,
     "metadata": {},
     "output_type": "execute_result"
    }
   ],
   "source": [
    "train_data.head()"
   ]
  },
  {
   "cell_type": "markdown",
   "metadata": {},
   "source": [
    "#### **Utility**\n",
    "\n",
    "In order to evaluate the utility of the synthetic datasets, the following steps will executed three times, each time with a different ML model.\n",
    "\n",
    "1. Two models are trained: one using the original train data and the other one using synthetic data.\n",
    "2. The two different models will predict the target column using the test split.\n",
    "3. The difference in performance between the two models will be reported via accuracy diff, f1-score diff, and auc-roc diff"
   ]
  },
  {
   "cell_type": "code",
   "execution_count": 15,
   "metadata": {},
   "outputs": [],
   "source": [
    "# Set target column\n",
    "target_col = 'Class'\n",
    "synth_datasets = [synthpop, ds, tvae, gaussian_copula, copula_gan, ctgan]\n",
    "model_names = [\"synthpop\", \"ds\", \"tvae\", \"gaussian_copula\", \"copula_gan\", \"ctgan\"]"
   ]
  },
  {
   "cell_type": "markdown",
   "metadata": {},
   "source": [
    "Run **random forest classifier** for utility evaluation."
   ]
  },
  {
   "cell_type": "code",
   "execution_count": 41,
   "metadata": {},
   "outputs": [
    {
     "name": "stdout",
     "output_type": "stream",
     "text": [
      "Random Forest result for '1_university_of_jordan' already exists\n"
     ]
    },
    {
     "data": {
      "text/html": [
       "<div>\n",
       "<style scoped>\n",
       "    .dataframe tbody tr th:only-of-type {\n",
       "        vertical-align: middle;\n",
       "    }\n",
       "\n",
       "    .dataframe tbody tr th {\n",
       "        vertical-align: top;\n",
       "    }\n",
       "\n",
       "    .dataframe thead th {\n",
       "        text-align: right;\n",
       "    }\n",
       "</style>\n",
       "<table border=\"1\" class=\"dataframe\">\n",
       "  <thead>\n",
       "    <tr style=\"text-align: right;\">\n",
       "      <th></th>\n",
       "      <th>Dataset</th>\n",
       "      <th>Model</th>\n",
       "      <th>Accuracy Difference</th>\n",
       "      <th>F1 Score Difference</th>\n",
       "      <th>ROC AUC Difference</th>\n",
       "    </tr>\n",
       "  </thead>\n",
       "  <tbody>\n",
       "    <tr>\n",
       "      <th>0</th>\n",
       "      <td>1</td>\n",
       "      <td>synthpop</td>\n",
       "      <td>0.08</td>\n",
       "      <td>0.08</td>\n",
       "      <td>0.04</td>\n",
       "    </tr>\n",
       "    <tr>\n",
       "      <th>1</th>\n",
       "      <td>1</td>\n",
       "      <td>ds</td>\n",
       "      <td>0.46</td>\n",
       "      <td>0.47</td>\n",
       "      <td>0.49</td>\n",
       "    </tr>\n",
       "    <tr>\n",
       "      <th>2</th>\n",
       "      <td>1</td>\n",
       "      <td>tvae</td>\n",
       "      <td>0.17</td>\n",
       "      <td>0.23</td>\n",
       "      <td>0.06</td>\n",
       "    </tr>\n",
       "    <tr>\n",
       "      <th>3</th>\n",
       "      <td>1</td>\n",
       "      <td>gaussian_copula</td>\n",
       "      <td>0.37</td>\n",
       "      <td>0.42</td>\n",
       "      <td>0.40</td>\n",
       "    </tr>\n",
       "    <tr>\n",
       "      <th>4</th>\n",
       "      <td>1</td>\n",
       "      <td>copula_gan</td>\n",
       "      <td>0.48</td>\n",
       "      <td>0.51</td>\n",
       "      <td>0.42</td>\n",
       "    </tr>\n",
       "  </tbody>\n",
       "</table>\n",
       "</div>"
      ],
      "text/plain": [
       "   Dataset            Model  Accuracy Difference  F1 Score Difference  \\\n",
       "0        1         synthpop                 0.08                 0.08   \n",
       "1        1               ds                 0.46                 0.47   \n",
       "2        1             tvae                 0.17                 0.23   \n",
       "3        1  gaussian_copula                 0.37                 0.42   \n",
       "4        1       copula_gan                 0.48                 0.51   \n",
       "\n",
       "   ROC AUC Difference  \n",
       "0                0.04  \n",
       "1                0.49  \n",
       "2                0.06  \n",
       "3                0.40  \n",
       "4                0.42  "
      ]
     },
     "execution_count": 41,
     "metadata": {},
     "output_type": "execute_result"
    }
   ],
   "source": [
    "rf_results = {}\n",
    "rf_df = pd.read_csv(\"../data/results/tables/rf.csv\")\n",
    "rows = []\n",
    "\n",
    "# Check if random forest results for the dataset already exist\n",
    "if (rf_df[\"Dataset\"] == 1).any():\n",
    "    print(\"Random Forest result for '1_university_of_jordan' already exists\")\n",
    "else:\n",
    "    # Run utility evaluation using random forest for each synthetic dataset and store results\n",
    "    for i, synth_dataset in enumerate(synth_datasets):\n",
    "        rf_results[model_names[i]] = run_utility_eval(train_data, test_data, synth_dataset, target_col, \"random_forest\")\n",
    "        \n",
    "        acc_diff = rf_results[model_names[i]][\"acc_diff\"]\n",
    "        f1_diff = rf_results[model_names[i]][\"f1_diff\"]\n",
    "        roc_auc_diff = rf_results[model_names[i]][\"roc_auc_diff\"]\n",
    "\n",
    "        rows.append([1,model_names[i], acc_diff, f1_diff, roc_auc_diff])\n",
    "\n",
    "    rf_df = pd.DataFrame(rows, columns=[\"Dataset\", \"Model\", \"Accuracy Difference\", \"F1 Score Difference\", \"ROC AUC Difference\"])\n",
    "    rf_df.to_csv(\"../data/results/tables/rf.csv\", index=False)\n",
    "\n",
    "rf_df.head()"
   ]
  },
  {
   "cell_type": "markdown",
   "metadata": {},
   "source": [
    "Run **logistic regression** for utility evaluation."
   ]
  },
  {
   "cell_type": "code",
   "execution_count": 42,
   "metadata": {},
   "outputs": [
    {
     "name": "stdout",
     "output_type": "stream",
     "text": [
      "Logistic regression result for '1_university_of_jordan' already exists\n"
     ]
    },
    {
     "data": {
      "text/html": [
       "<div>\n",
       "<style scoped>\n",
       "    .dataframe tbody tr th:only-of-type {\n",
       "        vertical-align: middle;\n",
       "    }\n",
       "\n",
       "    .dataframe tbody tr th {\n",
       "        vertical-align: top;\n",
       "    }\n",
       "\n",
       "    .dataframe thead th {\n",
       "        text-align: right;\n",
       "    }\n",
       "</style>\n",
       "<table border=\"1\" class=\"dataframe\">\n",
       "  <thead>\n",
       "    <tr style=\"text-align: right;\">\n",
       "      <th></th>\n",
       "      <th>Dataset</th>\n",
       "      <th>Model</th>\n",
       "      <th>Accuracy Difference</th>\n",
       "      <th>F1 Score Difference</th>\n",
       "      <th>ROC AUC Difference</th>\n",
       "    </tr>\n",
       "  </thead>\n",
       "  <tbody>\n",
       "    <tr>\n",
       "      <th>0</th>\n",
       "      <td>1</td>\n",
       "      <td>synthpop</td>\n",
       "      <td>0.05</td>\n",
       "      <td>0.06</td>\n",
       "      <td>0.00</td>\n",
       "    </tr>\n",
       "    <tr>\n",
       "      <th>1</th>\n",
       "      <td>1</td>\n",
       "      <td>ds</td>\n",
       "      <td>0.36</td>\n",
       "      <td>0.41</td>\n",
       "      <td>0.35</td>\n",
       "    </tr>\n",
       "    <tr>\n",
       "      <th>2</th>\n",
       "      <td>1</td>\n",
       "      <td>tvae</td>\n",
       "      <td>0.18</td>\n",
       "      <td>0.22</td>\n",
       "      <td>0.18</td>\n",
       "    </tr>\n",
       "    <tr>\n",
       "      <th>3</th>\n",
       "      <td>1</td>\n",
       "      <td>gaussian_copula</td>\n",
       "      <td>0.36</td>\n",
       "      <td>0.44</td>\n",
       "      <td>0.35</td>\n",
       "    </tr>\n",
       "    <tr>\n",
       "      <th>4</th>\n",
       "      <td>1</td>\n",
       "      <td>copula_gan</td>\n",
       "      <td>0.51</td>\n",
       "      <td>0.52</td>\n",
       "      <td>0.32</td>\n",
       "    </tr>\n",
       "  </tbody>\n",
       "</table>\n",
       "</div>"
      ],
      "text/plain": [
       "   Dataset            Model  Accuracy Difference  F1 Score Difference  \\\n",
       "0        1         synthpop                 0.05                 0.06   \n",
       "1        1               ds                 0.36                 0.41   \n",
       "2        1             tvae                 0.18                 0.22   \n",
       "3        1  gaussian_copula                 0.36                 0.44   \n",
       "4        1       copula_gan                 0.51                 0.52   \n",
       "\n",
       "   ROC AUC Difference  \n",
       "0                0.00  \n",
       "1                0.35  \n",
       "2                0.18  \n",
       "3                0.35  \n",
       "4                0.32  "
      ]
     },
     "execution_count": 42,
     "metadata": {},
     "output_type": "execute_result"
    }
   ],
   "source": [
    "lr_results = {}\n",
    "rows = []\n",
    "lr_df = pd.read_csv(\"../data/results/tables/lr.csv\")\n",
    "\n",
    "if (lr_df[\"Dataset\"] == 1).any():\n",
    "    print(\"Logistic regression result for '1_university_of_jordan' already exists\")\n",
    "else:\n",
    "    # Run utility evaluation using logistic regression for each model and store results\n",
    "    for i, synth_dataset in enumerate(synth_datasets):\n",
    "        lr_results[model_names[i]] = run_utility_eval(train_data, test_data, synth_dataset, target_col, \"logistic_regression\")\n",
    "\n",
    "        acc_diff = lr_results[model_names[i]][\"acc_diff\"]\n",
    "        f1_diff = lr_results[model_names[i]][\"f1_diff\"]\n",
    "        roc_auc_diff = lr_results[model_names[i]][\"roc_auc_diff\"]\n",
    "\n",
    "        rows.append([1,model_names[i], acc_diff, f1_diff, roc_auc_diff])\n",
    "\n",
    "    lr_df = pd.DataFrame(rows, columns=[\"Dataset\", \"Model\", \"Accuracy Difference\", \"F1 Score Difference\", \"ROC AUC Difference\"])\n",
    "    lr_df.to_csv(\"../data/results/tables/lr.csv\", index=False)\n",
    "    \n",
    "lr_df.head()"
   ]
  },
  {
   "cell_type": "markdown",
   "metadata": {},
   "source": [
    "Run **multilayer perceptron (MLP)** for utility evaluation."
   ]
  },
  {
   "cell_type": "code",
   "execution_count": 43,
   "metadata": {},
   "outputs": [
    {
     "name": "stdout",
     "output_type": "stream",
     "text": [
      "MLP result for '1_university_of_jordan' already exists\n"
     ]
    },
    {
     "data": {
      "text/html": [
       "<div>\n",
       "<style scoped>\n",
       "    .dataframe tbody tr th:only-of-type {\n",
       "        vertical-align: middle;\n",
       "    }\n",
       "\n",
       "    .dataframe tbody tr th {\n",
       "        vertical-align: top;\n",
       "    }\n",
       "\n",
       "    .dataframe thead th {\n",
       "        text-align: right;\n",
       "    }\n",
       "</style>\n",
       "<table border=\"1\" class=\"dataframe\">\n",
       "  <thead>\n",
       "    <tr style=\"text-align: right;\">\n",
       "      <th></th>\n",
       "      <th>Dataset</th>\n",
       "      <th>Model</th>\n",
       "      <th>Accuracy Difference</th>\n",
       "      <th>F1 Score Difference</th>\n",
       "      <th>ROC AUC Difference</th>\n",
       "    </tr>\n",
       "  </thead>\n",
       "  <tbody>\n",
       "    <tr>\n",
       "      <th>0</th>\n",
       "      <td>1</td>\n",
       "      <td>synthpop</td>\n",
       "      <td>-0.04</td>\n",
       "      <td>-0.03</td>\n",
       "      <td>-0.01</td>\n",
       "    </tr>\n",
       "    <tr>\n",
       "      <th>1</th>\n",
       "      <td>1</td>\n",
       "      <td>ds</td>\n",
       "      <td>0.33</td>\n",
       "      <td>0.37</td>\n",
       "      <td>0.28</td>\n",
       "    </tr>\n",
       "    <tr>\n",
       "      <th>2</th>\n",
       "      <td>1</td>\n",
       "      <td>tvae</td>\n",
       "      <td>0.06</td>\n",
       "      <td>0.11</td>\n",
       "      <td>0.12</td>\n",
       "    </tr>\n",
       "    <tr>\n",
       "      <th>3</th>\n",
       "      <td>1</td>\n",
       "      <td>gaussian_copula</td>\n",
       "      <td>0.31</td>\n",
       "      <td>0.39</td>\n",
       "      <td>0.46</td>\n",
       "    </tr>\n",
       "    <tr>\n",
       "      <th>4</th>\n",
       "      <td>1</td>\n",
       "      <td>copula_gan</td>\n",
       "      <td>0.28</td>\n",
       "      <td>0.31</td>\n",
       "      <td>0.33</td>\n",
       "    </tr>\n",
       "  </tbody>\n",
       "</table>\n",
       "</div>"
      ],
      "text/plain": [
       "   Dataset            Model  Accuracy Difference  F1 Score Difference  \\\n",
       "0        1         synthpop                -0.04                -0.03   \n",
       "1        1               ds                 0.33                 0.37   \n",
       "2        1             tvae                 0.06                 0.11   \n",
       "3        1  gaussian_copula                 0.31                 0.39   \n",
       "4        1       copula_gan                 0.28                 0.31   \n",
       "\n",
       "   ROC AUC Difference  \n",
       "0               -0.01  \n",
       "1                0.28  \n",
       "2                0.12  \n",
       "3                0.46  \n",
       "4                0.33  "
      ]
     },
     "execution_count": 43,
     "metadata": {},
     "output_type": "execute_result"
    }
   ],
   "source": [
    "mlp_results = {}\n",
    "rows = []\n",
    "mlp_df = pd.read_csv(\"../data/results/tables/mlp.csv\")\n",
    "\n",
    "if (mlp_df[\"Dataset\"] == 1).any():\n",
    "    print(\"MLP result for '1_university_of_jordan' already exists\")\n",
    "else:\n",
    "    # Run utility evaluation using MLP for each model and store results\n",
    "    for i, synth_dataset in enumerate(synth_datasets):\n",
    "        mlp_results[model_names[i]] = run_utility_eval(train_data, test_data, synth_dataset, target_col, \"multilayer_perceptron\")\n",
    "\n",
    "        acc_diff = mlp_results[model_names[i]][\"acc_diff\"]\n",
    "        f1_diff = mlp_results[model_names[i]][\"f1_diff\"]\n",
    "        roc_auc_diff = mlp_results[model_names[i]][\"roc_auc_diff\"]\n",
    "\n",
    "        rows.append([1,model_names[i], acc_diff, f1_diff, roc_auc_diff])\n",
    "\n",
    "    mlp_df = pd.DataFrame(rows, columns=[\"Dataset\", \"Model\", \"Accuracy Difference\", \"F1 Score Difference\", \"ROC AUC Difference\"])\n",
    "    mlp_df.to_csv(\"../data/results/tables/mlp.csv\", index=False)\n",
    "    \n",
    "mlp_df.head()"
   ]
  },
  {
   "cell_type": "markdown",
   "metadata": {},
   "source": [
    "#### **Resemblance**\n",
    "\n",
    "The resemblance dimension includes mutliple distance metrics to measure the similarity of the synthetic and real data: Difference in pairwise correlation, Jensen-Shannon divergence, Wasserstein distance\n",
    "\n",
    "- Correlation distance diff : lower values are better\n",
    "- JSD in [0,1] range: lower values are better\n",
    "- WD: lower values are better\n",
    "\n",
    "\n",
    "**Difference in pairwise correlation:**"
   ]
  },
  {
   "cell_type": "code",
   "execution_count": 44,
   "metadata": {},
   "outputs": [
    {
     "name": "stdout",
     "output_type": "stream",
     "text": [
      "Entry for '1_university_of_jordan' already exists\n"
     ]
    },
    {
     "data": {
      "text/html": [
       "<div>\n",
       "<style scoped>\n",
       "    .dataframe tbody tr th:only-of-type {\n",
       "        vertical-align: middle;\n",
       "    }\n",
       "\n",
       "    .dataframe tbody tr th {\n",
       "        vertical-align: top;\n",
       "    }\n",
       "\n",
       "    .dataframe thead th {\n",
       "        text-align: right;\n",
       "    }\n",
       "</style>\n",
       "<table border=\"1\" class=\"dataframe\">\n",
       "  <thead>\n",
       "    <tr style=\"text-align: right;\">\n",
       "      <th></th>\n",
       "      <th>Dataset</th>\n",
       "      <th>Model</th>\n",
       "      <th>Pairwise Corr Diff</th>\n",
       "    </tr>\n",
       "  </thead>\n",
       "  <tbody>\n",
       "    <tr>\n",
       "      <th>0</th>\n",
       "      <td>1</td>\n",
       "      <td>synthpop</td>\n",
       "      <td>0.032625</td>\n",
       "    </tr>\n",
       "    <tr>\n",
       "      <th>1</th>\n",
       "      <td>1</td>\n",
       "      <td>ds</td>\n",
       "      <td>0.154832</td>\n",
       "    </tr>\n",
       "    <tr>\n",
       "      <th>2</th>\n",
       "      <td>1</td>\n",
       "      <td>tvae</td>\n",
       "      <td>0.149571</td>\n",
       "    </tr>\n",
       "    <tr>\n",
       "      <th>3</th>\n",
       "      <td>1</td>\n",
       "      <td>gaussian_copula</td>\n",
       "      <td>0.098974</td>\n",
       "    </tr>\n",
       "    <tr>\n",
       "      <th>4</th>\n",
       "      <td>1</td>\n",
       "      <td>copula_gan</td>\n",
       "      <td>0.148522</td>\n",
       "    </tr>\n",
       "  </tbody>\n",
       "</table>\n",
       "</div>"
      ],
      "text/plain": [
       "   Dataset            Model  Pairwise Corr Diff\n",
       "0        1         synthpop            0.032625\n",
       "1        1               ds            0.154832\n",
       "2        1             tvae            0.149571\n",
       "3        1  gaussian_copula            0.098974\n",
       "4        1       copula_gan            0.148522"
      ]
     },
     "execution_count": 44,
     "metadata": {},
     "output_type": "execute_result"
    }
   ],
   "source": [
    "rows = []\n",
    "corr_diff_df = pd.read_csv(\"../data/results/tables/corr_diff.csv\")\n",
    "\n",
    "if (corr_diff_df[\"Dataset\"] == 1).any():\n",
    "    print(\"Entry for '1_university_of_jordan' already exists\")\n",
    "else:\n",
    "    for i, synth_dataset in enumerate(synth_datasets):\n",
    "        result = pairwise_correlation_diff(train_data, synth_dataset)\n",
    "        rows.append([1,model_names[i], result])\n",
    "\n",
    "    corr_diff_df = pd.DataFrame(rows, columns=[\"Dataset\", \"Model\", \"Pairwise Corr Diff\"])\n",
    "    corr_diff_df.to_csv(\"../data/results/tables/corr_diff.csv\", index=False)\n",
    "    \n",
    "corr_diff_df.head()"
   ]
  },
  {
   "cell_type": "markdown",
   "metadata": {},
   "source": [
    "**Jensen-Shannon Divergence**"
   ]
  },
  {
   "cell_type": "code",
   "execution_count": 45,
   "metadata": {},
   "outputs": [
    {
     "name": "stdout",
     "output_type": "stream",
     "text": [
      "Entry for '1_university_of_jordan' already exists\n"
     ]
    },
    {
     "data": {
      "text/html": [
       "<div>\n",
       "<style scoped>\n",
       "    .dataframe tbody tr th:only-of-type {\n",
       "        vertical-align: middle;\n",
       "    }\n",
       "\n",
       "    .dataframe tbody tr th {\n",
       "        vertical-align: top;\n",
       "    }\n",
       "\n",
       "    .dataframe thead th {\n",
       "        text-align: right;\n",
       "    }\n",
       "</style>\n",
       "<table border=\"1\" class=\"dataframe\">\n",
       "  <thead>\n",
       "    <tr style=\"text-align: right;\">\n",
       "      <th></th>\n",
       "      <th>Dataset</th>\n",
       "      <th>Model</th>\n",
       "      <th>JSD Diff</th>\n",
       "    </tr>\n",
       "  </thead>\n",
       "  <tbody>\n",
       "    <tr>\n",
       "      <th>0</th>\n",
       "      <td>1</td>\n",
       "      <td>synthpop</td>\n",
       "      <td>0.001031</td>\n",
       "    </tr>\n",
       "    <tr>\n",
       "      <th>1</th>\n",
       "      <td>1</td>\n",
       "      <td>ds</td>\n",
       "      <td>0.086155</td>\n",
       "    </tr>\n",
       "    <tr>\n",
       "      <th>2</th>\n",
       "      <td>1</td>\n",
       "      <td>tvae</td>\n",
       "      <td>0.144358</td>\n",
       "    </tr>\n",
       "    <tr>\n",
       "      <th>3</th>\n",
       "      <td>1</td>\n",
       "      <td>gaussian_copula</td>\n",
       "      <td>0.034654</td>\n",
       "    </tr>\n",
       "    <tr>\n",
       "      <th>4</th>\n",
       "      <td>1</td>\n",
       "      <td>copula_gan</td>\n",
       "      <td>0.047970</td>\n",
       "    </tr>\n",
       "  </tbody>\n",
       "</table>\n",
       "</div>"
      ],
      "text/plain": [
       "   Dataset            Model  JSD Diff\n",
       "0        1         synthpop  0.001031\n",
       "1        1               ds  0.086155\n",
       "2        1             tvae  0.144358\n",
       "3        1  gaussian_copula  0.034654\n",
       "4        1       copula_gan  0.047970"
      ]
     },
     "execution_count": 45,
     "metadata": {},
     "output_type": "execute_result"
    }
   ],
   "source": [
    "rows = []\n",
    "jsd_df = pd.read_csv(\"../data/results/tables/jsd.csv\")\n",
    "\n",
    "if (jsd_df[\"Dataset\"] == 1).any():\n",
    "    print(\"Entry for '1_university_of_jordan' already exists\")\n",
    "else:\n",
    "    for i, synth_dataset in enumerate(synth_datasets):\n",
    "        result = jsd(train_data, synth_dataset)\n",
    "        rows.append([1,model_names[i], result])\n",
    "\n",
    "    jsd_df = pd.DataFrame(rows, columns=[\"Dataset\", \"Model\", \"JSD Diff\"])\n",
    "    jsd_df.to_csv(\"../data/results/tables/jsd.csv\", index=False)\n",
    "    \n",
    "jsd_df.head()"
   ]
  },
  {
   "cell_type": "markdown",
   "metadata": {},
   "source": [
    "**Wasserstein Distance**"
   ]
  },
  {
   "cell_type": "code",
   "execution_count": 46,
   "metadata": {},
   "outputs": [
    {
     "name": "stdout",
     "output_type": "stream",
     "text": [
      "Entry for '1_university_of_jordan' already exists\n"
     ]
    },
    {
     "data": {
      "text/html": [
       "<div>\n",
       "<style scoped>\n",
       "    .dataframe tbody tr th:only-of-type {\n",
       "        vertical-align: middle;\n",
       "    }\n",
       "\n",
       "    .dataframe tbody tr th {\n",
       "        vertical-align: top;\n",
       "    }\n",
       "\n",
       "    .dataframe thead th {\n",
       "        text-align: right;\n",
       "    }\n",
       "</style>\n",
       "<table border=\"1\" class=\"dataframe\">\n",
       "  <thead>\n",
       "    <tr style=\"text-align: right;\">\n",
       "      <th></th>\n",
       "      <th>Dataset</th>\n",
       "      <th>Model</th>\n",
       "      <th>WD Diff</th>\n",
       "    </tr>\n",
       "  </thead>\n",
       "  <tbody>\n",
       "    <tr>\n",
       "      <th>0</th>\n",
       "      <td>1</td>\n",
       "      <td>synthpop</td>\n",
       "      <td>0.003937</td>\n",
       "    </tr>\n",
       "    <tr>\n",
       "      <th>1</th>\n",
       "      <td>1</td>\n",
       "      <td>ds</td>\n",
       "      <td>0.057474</td>\n",
       "    </tr>\n",
       "    <tr>\n",
       "      <th>2</th>\n",
       "      <td>1</td>\n",
       "      <td>tvae</td>\n",
       "      <td>0.119085</td>\n",
       "    </tr>\n",
       "    <tr>\n",
       "      <th>3</th>\n",
       "      <td>1</td>\n",
       "      <td>gaussian_copula</td>\n",
       "      <td>0.012057</td>\n",
       "    </tr>\n",
       "    <tr>\n",
       "      <th>4</th>\n",
       "      <td>1</td>\n",
       "      <td>copula_gan</td>\n",
       "      <td>0.019844</td>\n",
       "    </tr>\n",
       "  </tbody>\n",
       "</table>\n",
       "</div>"
      ],
      "text/plain": [
       "   Dataset            Model   WD Diff\n",
       "0        1         synthpop  0.003937\n",
       "1        1               ds  0.057474\n",
       "2        1             tvae  0.119085\n",
       "3        1  gaussian_copula  0.012057\n",
       "4        1       copula_gan  0.019844"
      ]
     },
     "execution_count": 46,
     "metadata": {},
     "output_type": "execute_result"
    }
   ],
   "source": [
    "wd_results = {}\n",
    "rows = []\n",
    "wd_df = pd.read_csv(\"../data/results/tables/wd.csv\")\n",
    "\n",
    "if (wd_df[\"Dataset\"] == 1).any():\n",
    "    print(\"Entry for '1_university_of_jordan' already exists\")\n",
    "else:\n",
    "    for i, synth_dataset in enumerate(synth_datasets):\n",
    "        wd_results[model_names[i]] = wd(train_data, synth_dataset)\n",
    "        rows.append([1,model_names[i], wd_results[model_names[i]]])\n",
    "\n",
    "    wd_df = pd.DataFrame(rows, columns=[\"Dataset\", \"Model\", \"WD Diff\"])\n",
    "    wd_df.to_csv(\"../data/results/tables/wd.csv\", index=False)\n",
    "    \n",
    "wd_df.head()"
   ]
  },
  {
   "cell_type": "markdown",
   "metadata": {},
   "source": [
    "#### **Privacy**\n",
    "\n",
    "Run privacy evaluation using Distance to closest Record (DCR), Nearest Neighbour Difference Ratio (NNDR) and Membership Inference Attack (MIA)\n",
    "\n",
    "- **DCR**: a value of zero indicates that the synthetic record is an identical copy of the original\n",
    "one -> leak of real information, higher values indicate more privacy\n",
    "\n",
    "- **NNDR**: ratio is within [0,1], higher values indicate better privacy\n",
    "\n",
    "- **MIA**: both accuracy and precision should be below 0.5 for all thresholds for strong privacy preservation"
   ]
  },
  {
   "cell_type": "markdown",
   "metadata": {},
   "source": [
    "**Distance to closest record (DCR)**"
   ]
  },
  {
   "cell_type": "code",
   "execution_count": 22,
   "metadata": {},
   "outputs": [
    {
     "name": "stdout",
     "output_type": "stream",
     "text": [
      "Entry for '1_university_of_jordan' already exists\n"
     ]
    }
   ],
   "source": [
    "rows = []\n",
    "dcr_df = pd.read_csv(\"../data/results/tables/dcr.csv\")\n",
    "\n",
    "if (dcr_df[\"Dataset\"] == 1).any():\n",
    "    print(\"Entry for '1_university_of_jordan' already exists\")\n",
    "else:\n",
    "    for i, synth_dataset in enumerate(synth_datasets):\n",
    "        result = dcr(train_data, synth_dataset, model_names[i], dataset_name=dataset_name, save_hist=True)\n",
    "        result_within_real = dcr(train_data, synth_dataset, model_names[i], dataset_name=dataset_name, within=\"Original\", save_hist=False)\n",
    "        result_within_synth = dcr(train_data, synth_dataset, model_names[i], dataset_name=dataset_name, within=\"Synthetic\", save_hist=False)\n",
    "        rows.append([1,model_names[i], result, result_within_real, result_within_synth])\n",
    "\n",
    "    dcr_df = pd.DataFrame(rows, columns=[\"Dataset\", \"Model\", \"DCR 5th Percentile\", \"DCR 5th Percentile (within Real)\", \"DCR 5th Percentile (within Synthetic)\"])\n",
    "    dcr_df.to_csv(\"../data/results/tables/dcr.csv\", index=False)\n",
    "    dcr_df.head()   "
   ]
  },
  {
   "cell_type": "markdown",
   "metadata": {},
   "source": [
    "**Nearest Neighbor distance ratio (NNDR)**"
   ]
  },
  {
   "cell_type": "code",
   "execution_count": 23,
   "metadata": {},
   "outputs": [
    {
     "name": "stdout",
     "output_type": "stream",
     "text": [
      "Entry for '1_university_of_jordan' already exists\n"
     ]
    }
   ],
   "source": [
    "rows = []\n",
    "nndr_df = pd.read_csv(\"../data/results/tables/nndr.csv\")\n",
    "\n",
    "if (nndr_df[\"Dataset\"] == 1).any():\n",
    "    print(\"Entry for '1_university_of_jordan' already exists\")\n",
    "else:\n",
    "    for i, synth_dataset in enumerate(synth_datasets):\n",
    "        result = nndr(train_data, synth_dataset)\n",
    "        result_within_real = nndr(train_data, synth_dataset, within=\"Original\")\n",
    "        result_within_synth = nndr(train_data, synth_dataset, within=\"Synthetic\")\n",
    "        rows.append([1,model_names[i], result, result_within_real, result_within_synth])\n",
    "\n",
    "    nndr_df = pd.DataFrame(rows, columns=[\"Dataset\", \"Model\", \"NNDR 5th percentile\", \"NNDR 5th percentile (within Real)\", \"NNDR 5th percentile (within Synthetic)\"])\n",
    "    nndr_df.to_csv(\"../data/results/tables/nndr.csv\", index=False)\n",
    "    nndr_df.head()  "
   ]
  },
  {
   "cell_type": "markdown",
   "metadata": {},
   "source": [
    "**Membership Inference Attack (MIA)**"
   ]
  },
  {
   "cell_type": "code",
   "execution_count": 25,
   "metadata": {},
   "outputs": [
    {
     "name": "stdout",
     "output_type": "stream",
     "text": [
      "MIA results for 1_university_of_jordan already exist.\n"
     ]
    }
   ],
   "source": [
    "mia_results = {}\n",
    "if (os.path.isfile(\"../data/results/plots/mia/1_university_of_jordan/ds_mia_accuracy.png\")):\n",
    "    print(\"MIA results for 1_university_of_jordan already exist.\")\n",
    "else:\n",
    "    for i, synth_dataset in enumerate(synth_datasets):\n",
    "        mia_results[model_names[i]] = mia(train_data, synth_dataset, model_names[i], dataset_name=dataset_name, save_plts=True)"
   ]
  },
  {
   "cell_type": "code",
   "execution_count": null,
   "metadata": {},
   "outputs": [],
   "source": []
  }
 ],
 "metadata": {
  "kernelspec": {
   "display_name": "bt-sdg",
   "language": "python",
   "name": "python3"
  },
  "language_info": {
   "codemirror_mode": {
    "name": "ipython",
    "version": 3
   },
   "file_extension": ".py",
   "mimetype": "text/x-python",
   "name": "python",
   "nbconvert_exporter": "python",
   "pygments_lexer": "ipython3",
   "version": "3.12.5"
  }
 },
 "nbformat": 4,
 "nbformat_minor": 2
}

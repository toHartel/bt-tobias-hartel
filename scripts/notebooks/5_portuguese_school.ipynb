{
 "cells": [
  {
   "cell_type": "markdown",
   "metadata": {},
   "source": [
    "# **Dataset 5: Portuguese School**\n",
    "\n",
    "In this notebook we'll go through the entire process of exploratory data analysis, synthetic data generation (SDG) and evaluation for Dataset 5: Portuguese School.\n",
    "\n",
    "The evaluation approach that is used was suggested by  Liu et al. [1]. The goal is to provide a comprehensive evaluation for synthetic tabular data in learning analytics that encompasses utility, resemblance and privacy metrics. The dataset used in this notebook is collected from two Portuguese schools.\n",
    "\n",
    "Dataset source: https://archive.ics.uci.edu/dataset/320/student+performance\n",
    "\n",
    "**References:**\n",
    "\n",
    "[1] Qinyi Liu, Mohammad Khalil, Ronas Shakya, and Jelena Jovanovic. 2024.\n",
    "Scaling While Privacy Preserving: A Comprehensive Synthetic Tabular\n",
    "Data Generation and Evaluation in Learning Analytics. In The 14th Learning\n",
    "Analytics and Knowledge Conference (LAK ’24), March 18–22, 2024, Kyoto,\n",
    "Japan. ACM, New York, NY, USA, 12 pages. https://doi.org/10.1145/3636555.\n",
    "3636921"
   ]
  },
  {
   "cell_type": "markdown",
   "metadata": {},
   "source": [
    "### **Import Packages**"
   ]
  },
  {
   "cell_type": "code",
   "execution_count": 1,
   "metadata": {},
   "outputs": [],
   "source": [
    "import os\n",
    "import sys\n",
    "import multiprocessing\n",
    "import subprocess\n",
    "import pandas as pd\n",
    "import seaborn as sns\n",
    "from sklearn.model_selection import train_test_split\n",
    "from sklearn.preprocessing import LabelEncoder\n",
    "\n",
    "sys.path.append(os.path.abspath(\"../src\"))\n",
    "\n",
    "from generation.data_synthesizer import ds_generate_data\n",
    "from generation.synthetic_data_vault import sdv_generate_data\n",
    "from evaluation.utility import run_utility_eval\n",
    "from evaluation.resemblance import pairwise_correlation_diff, jsd, wd\n",
    "from evaluation.privacy import dcr, nndr, mia"
   ]
  },
  {
   "cell_type": "markdown",
   "metadata": {},
   "source": [
    "### **Exploratory Data Analysis**"
   ]
  },
  {
   "cell_type": "code",
   "execution_count": 2,
   "metadata": {},
   "outputs": [
    {
     "data": {
      "text/html": [
       "<div>\n",
       "<style scoped>\n",
       "    .dataframe tbody tr th:only-of-type {\n",
       "        vertical-align: middle;\n",
       "    }\n",
       "\n",
       "    .dataframe tbody tr th {\n",
       "        vertical-align: top;\n",
       "    }\n",
       "\n",
       "    .dataframe thead th {\n",
       "        text-align: right;\n",
       "    }\n",
       "</style>\n",
       "<table border=\"1\" class=\"dataframe\">\n",
       "  <thead>\n",
       "    <tr style=\"text-align: right;\">\n",
       "      <th></th>\n",
       "      <th>school</th>\n",
       "      <th>sex</th>\n",
       "      <th>age</th>\n",
       "      <th>address</th>\n",
       "      <th>famsize</th>\n",
       "      <th>Pstatus</th>\n",
       "      <th>Medu</th>\n",
       "      <th>Fedu</th>\n",
       "      <th>Mjob</th>\n",
       "      <th>Fjob</th>\n",
       "      <th>...</th>\n",
       "      <th>famrel</th>\n",
       "      <th>freetime</th>\n",
       "      <th>goout</th>\n",
       "      <th>Dalc</th>\n",
       "      <th>Walc</th>\n",
       "      <th>health</th>\n",
       "      <th>absences</th>\n",
       "      <th>G1</th>\n",
       "      <th>G2</th>\n",
       "      <th>G3</th>\n",
       "    </tr>\n",
       "  </thead>\n",
       "  <tbody>\n",
       "    <tr>\n",
       "      <th>0</th>\n",
       "      <td>GP</td>\n",
       "      <td>F</td>\n",
       "      <td>18</td>\n",
       "      <td>U</td>\n",
       "      <td>GT3</td>\n",
       "      <td>A</td>\n",
       "      <td>4</td>\n",
       "      <td>4</td>\n",
       "      <td>at_home</td>\n",
       "      <td>teacher</td>\n",
       "      <td>...</td>\n",
       "      <td>4</td>\n",
       "      <td>3</td>\n",
       "      <td>4</td>\n",
       "      <td>1</td>\n",
       "      <td>1</td>\n",
       "      <td>3</td>\n",
       "      <td>6</td>\n",
       "      <td>5</td>\n",
       "      <td>6</td>\n",
       "      <td>6</td>\n",
       "    </tr>\n",
       "    <tr>\n",
       "      <th>1</th>\n",
       "      <td>GP</td>\n",
       "      <td>F</td>\n",
       "      <td>17</td>\n",
       "      <td>U</td>\n",
       "      <td>GT3</td>\n",
       "      <td>T</td>\n",
       "      <td>1</td>\n",
       "      <td>1</td>\n",
       "      <td>at_home</td>\n",
       "      <td>other</td>\n",
       "      <td>...</td>\n",
       "      <td>5</td>\n",
       "      <td>3</td>\n",
       "      <td>3</td>\n",
       "      <td>1</td>\n",
       "      <td>1</td>\n",
       "      <td>3</td>\n",
       "      <td>4</td>\n",
       "      <td>5</td>\n",
       "      <td>5</td>\n",
       "      <td>6</td>\n",
       "    </tr>\n",
       "    <tr>\n",
       "      <th>2</th>\n",
       "      <td>GP</td>\n",
       "      <td>F</td>\n",
       "      <td>15</td>\n",
       "      <td>U</td>\n",
       "      <td>LE3</td>\n",
       "      <td>T</td>\n",
       "      <td>1</td>\n",
       "      <td>1</td>\n",
       "      <td>at_home</td>\n",
       "      <td>other</td>\n",
       "      <td>...</td>\n",
       "      <td>4</td>\n",
       "      <td>3</td>\n",
       "      <td>2</td>\n",
       "      <td>2</td>\n",
       "      <td>3</td>\n",
       "      <td>3</td>\n",
       "      <td>10</td>\n",
       "      <td>7</td>\n",
       "      <td>8</td>\n",
       "      <td>10</td>\n",
       "    </tr>\n",
       "    <tr>\n",
       "      <th>3</th>\n",
       "      <td>GP</td>\n",
       "      <td>F</td>\n",
       "      <td>15</td>\n",
       "      <td>U</td>\n",
       "      <td>GT3</td>\n",
       "      <td>T</td>\n",
       "      <td>4</td>\n",
       "      <td>2</td>\n",
       "      <td>health</td>\n",
       "      <td>services</td>\n",
       "      <td>...</td>\n",
       "      <td>3</td>\n",
       "      <td>2</td>\n",
       "      <td>2</td>\n",
       "      <td>1</td>\n",
       "      <td>1</td>\n",
       "      <td>5</td>\n",
       "      <td>2</td>\n",
       "      <td>15</td>\n",
       "      <td>14</td>\n",
       "      <td>15</td>\n",
       "    </tr>\n",
       "    <tr>\n",
       "      <th>4</th>\n",
       "      <td>GP</td>\n",
       "      <td>F</td>\n",
       "      <td>16</td>\n",
       "      <td>U</td>\n",
       "      <td>GT3</td>\n",
       "      <td>T</td>\n",
       "      <td>3</td>\n",
       "      <td>3</td>\n",
       "      <td>other</td>\n",
       "      <td>other</td>\n",
       "      <td>...</td>\n",
       "      <td>4</td>\n",
       "      <td>3</td>\n",
       "      <td>2</td>\n",
       "      <td>1</td>\n",
       "      <td>2</td>\n",
       "      <td>5</td>\n",
       "      <td>4</td>\n",
       "      <td>6</td>\n",
       "      <td>10</td>\n",
       "      <td>10</td>\n",
       "    </tr>\n",
       "  </tbody>\n",
       "</table>\n",
       "<p>5 rows × 33 columns</p>\n",
       "</div>"
      ],
      "text/plain": [
       "  school sex  age address famsize Pstatus  Medu  Fedu     Mjob      Fjob  ...  \\\n",
       "0     GP   F   18       U     GT3       A     4     4  at_home   teacher  ...   \n",
       "1     GP   F   17       U     GT3       T     1     1  at_home     other  ...   \n",
       "2     GP   F   15       U     LE3       T     1     1  at_home     other  ...   \n",
       "3     GP   F   15       U     GT3       T     4     2   health  services  ...   \n",
       "4     GP   F   16       U     GT3       T     3     3    other     other  ...   \n",
       "\n",
       "  famrel freetime  goout  Dalc  Walc health absences  G1  G2  G3  \n",
       "0      4        3      4     1     1      3        6   5   6   6  \n",
       "1      5        3      3     1     1      3        4   5   5   6  \n",
       "2      4        3      2     2     3      3       10   7   8  10  \n",
       "3      3        2      2     1     1      5        2  15  14  15  \n",
       "4      4        3      2     1     2      5        4   6  10  10  \n",
       "\n",
       "[5 rows x 33 columns]"
      ]
     },
     "execution_count": 2,
     "metadata": {},
     "output_type": "execute_result"
    }
   ],
   "source": [
    "data_path = \"../data/original_data/5_portuguese_school/5_portuguese_school.csv\"\n",
    "original_data = pd.read_csv(data_path)\n",
    "original_data.head()"
   ]
  },
  {
   "cell_type": "code",
   "execution_count": 3,
   "metadata": {},
   "outputs": [
    {
     "name": "stdout",
     "output_type": "stream",
     "text": [
      "<class 'pandas.core.frame.DataFrame'>\n",
      "RangeIndex: 395 entries, 0 to 394\n",
      "Data columns (total 33 columns):\n",
      " #   Column      Non-Null Count  Dtype \n",
      "---  ------      --------------  ----- \n",
      " 0   school      395 non-null    object\n",
      " 1   sex         395 non-null    object\n",
      " 2   age         395 non-null    int64 \n",
      " 3   address     395 non-null    object\n",
      " 4   famsize     395 non-null    object\n",
      " 5   Pstatus     395 non-null    object\n",
      " 6   Medu        395 non-null    int64 \n",
      " 7   Fedu        395 non-null    int64 \n",
      " 8   Mjob        395 non-null    object\n",
      " 9   Fjob        395 non-null    object\n",
      " 10  reason      395 non-null    object\n",
      " 11  guardian    395 non-null    object\n",
      " 12  traveltime  395 non-null    int64 \n",
      " 13  studytime   395 non-null    int64 \n",
      " 14  failures    395 non-null    int64 \n",
      " 15  schoolsup   395 non-null    object\n",
      " 16  famsup      395 non-null    object\n",
      " 17  paid        395 non-null    object\n",
      " 18  activities  395 non-null    object\n",
      " 19  nursery     395 non-null    object\n",
      " 20  higher      395 non-null    object\n",
      " 21  internet    395 non-null    object\n",
      " 22  romantic    395 non-null    object\n",
      " 23  famrel      395 non-null    int64 \n",
      " 24  freetime    395 non-null    int64 \n",
      " 25  goout       395 non-null    int64 \n",
      " 26  Dalc        395 non-null    int64 \n",
      " 27  Walc        395 non-null    int64 \n",
      " 28  health      395 non-null    int64 \n",
      " 29  absences    395 non-null    int64 \n",
      " 30  G1          395 non-null    int64 \n",
      " 31  G2          395 non-null    int64 \n",
      " 32  G3          395 non-null    int64 \n",
      "dtypes: int64(16), object(17)\n",
      "memory usage: 102.0+ KB\n"
     ]
    }
   ],
   "source": [
    "original_data.info()"
   ]
  },
  {
   "cell_type": "code",
   "execution_count": 4,
   "metadata": {},
   "outputs": [
    {
     "data": {
      "text/plain": [
       "school        0\n",
       "sex           0\n",
       "age           0\n",
       "address       0\n",
       "famsize       0\n",
       "Pstatus       0\n",
       "Medu          0\n",
       "Fedu          0\n",
       "Mjob          0\n",
       "Fjob          0\n",
       "reason        0\n",
       "guardian      0\n",
       "traveltime    0\n",
       "studytime     0\n",
       "failures      0\n",
       "schoolsup     0\n",
       "famsup        0\n",
       "paid          0\n",
       "activities    0\n",
       "nursery       0\n",
       "higher        0\n",
       "internet      0\n",
       "romantic      0\n",
       "famrel        0\n",
       "freetime      0\n",
       "goout         0\n",
       "Dalc          0\n",
       "Walc          0\n",
       "health        0\n",
       "absences      0\n",
       "G1            0\n",
       "G2            0\n",
       "G3            0\n",
       "dtype: int64"
      ]
     },
     "execution_count": 4,
     "metadata": {},
     "output_type": "execute_result"
    }
   ],
   "source": [
    "original_data.isnull().sum()"
   ]
  },
  {
   "cell_type": "code",
   "execution_count": 5,
   "metadata": {},
   "outputs": [
    {
     "data": {
      "text/plain": [
       "school         2\n",
       "sex            2\n",
       "age            8\n",
       "address        2\n",
       "famsize        2\n",
       "Pstatus        2\n",
       "Medu           5\n",
       "Fedu           5\n",
       "Mjob           5\n",
       "Fjob           5\n",
       "reason         4\n",
       "guardian       3\n",
       "traveltime     4\n",
       "studytime      4\n",
       "failures       4\n",
       "schoolsup      2\n",
       "famsup         2\n",
       "paid           2\n",
       "activities     2\n",
       "nursery        2\n",
       "higher         2\n",
       "internet       2\n",
       "romantic       2\n",
       "famrel         5\n",
       "freetime       5\n",
       "goout          5\n",
       "Dalc           5\n",
       "Walc           5\n",
       "health         5\n",
       "absences      34\n",
       "G1            17\n",
       "G2            17\n",
       "G3            18\n",
       "dtype: int64"
      ]
     },
     "execution_count": 5,
     "metadata": {},
     "output_type": "execute_result"
    }
   ],
   "source": [
    "original_data.nunique()"
   ]
  },
  {
   "cell_type": "code",
   "execution_count": 6,
   "metadata": {},
   "outputs": [
    {
     "name": "stdout",
     "output_type": "stream",
     "text": [
      "school ['GP' 'MS']\n",
      "sex ['F' 'M']\n",
      "address ['U' 'R']\n",
      "famsize ['GT3' 'LE3']\n",
      "Pstatus ['A' 'T']\n",
      "Mjob ['at_home' 'health' 'other' 'services' 'teacher']\n",
      "Fjob ['teacher' 'other' 'services' 'health' 'at_home']\n",
      "reason ['course' 'other' 'home' 'reputation']\n",
      "guardian ['mother' 'father' 'other']\n",
      "schoolsup ['yes' 'no']\n",
      "famsup ['no' 'yes']\n",
      "paid ['no' 'yes']\n",
      "activities ['no' 'yes']\n",
      "nursery ['yes' 'no']\n",
      "higher ['yes' 'no']\n",
      "internet ['no' 'yes']\n",
      "romantic ['no' 'yes']\n"
     ]
    }
   ],
   "source": [
    "# Check categorical columns\n",
    "categorical_cols = original_data.select_dtypes(include=['object']).columns\n",
    "for col in categorical_cols:\n",
    "    print(col, original_data[col].unique())"
   ]
  },
  {
   "cell_type": "code",
   "execution_count": 7,
   "metadata": {},
   "outputs": [
    {
     "data": {
      "text/plain": [
       "<Axes: xlabel='G3', ylabel='Count'>"
      ]
     },
     "execution_count": 7,
     "metadata": {},
     "output_type": "execute_result"
    },
    {
     "data": {
      "image/png": "[encoded data removed]",
      "text/plain": [
       "<Figure size 640x480 with 1 Axes>"
      ]
     },
     "metadata": {},
     "output_type": "display_data"
    }
   ],
   "source": [
    "# Check class distribution\n",
    "sns.histplot(original_data['G3'])"
   ]
  },
  {
   "cell_type": "markdown",
   "metadata": {},
   "source": [
    "### **Synthetic Data Generation**"
   ]
  },
  {
   "cell_type": "code",
   "execution_count": 8,
   "metadata": {},
   "outputs": [
    {
     "name": "stdout",
     "output_type": "stream",
     "text": [
      "Train and test data saved.\n"
     ]
    }
   ],
   "source": [
    "original_data_path = \"../data/original_data/5_portuguese_school/\"\n",
    "train_file = os.path.join(original_data_path, \"train_data.csv\")\n",
    "test_file = os.path.join(original_data_path, \"test_data.csv\")\n",
    "\n",
    "# Prüfen, ob beide Dateien existieren\n",
    "if os.path.isfile(train_file) and os.path.isfile(test_file):\n",
    "    train_data = pd.read_csv(train_file)\n",
    "    test_data = pd.read_csv(test_file)\n",
    "    print(\"Train and test data loaded.\")\n",
    "else:\n",
    "    train_data, test_data = train_test_split(original_data, test_size=0.3, random_state=42)\n",
    "    train_data.to_csv(train_file, index=False)\n",
    "    test_data.to_csv(test_file, index=False)\n",
    "    print(\"Train and test data saved.\")"
   ]
  },
  {
   "cell_type": "code",
   "execution_count": 9,
   "metadata": {},
   "outputs": [
    {
     "name": "stdout",
     "output_type": "stream",
     "text": [
      "Sampling synthpop...\n",
      "Sampling DataSynthesizer...\n",
      "================ Constructing Bayesian Network (BN) ================\n",
      "Adding ROOT freetime\n",
      "Adding attribute paid\n",
      "Adding attribute famrel\n",
      "Adding attribute nursery\n",
      "Adding attribute schoolsup\n",
      "Adding attribute guardian\n",
      "Adding attribute internet\n",
      "Adding attribute traveltime\n",
      "Adding attribute G1\n",
      "Adding attribute G3\n",
      "Adding attribute Mjob\n",
      "Adding attribute Dalc\n",
      "Adding attribute failures\n",
      "Adding attribute famsup\n",
      "Adding attribute absences\n",
      "Adding attribute sex\n",
      "Adding attribute age\n",
      "Adding attribute school\n",
      "Adding attribute Walc\n",
      "Adding attribute romantic\n",
      "Adding attribute health\n",
      "Adding attribute G2\n",
      "Adding attribute activities\n",
      "Adding attribute Fedu\n",
      "Adding attribute higher\n",
      "Adding attribute address\n",
      "Adding attribute reason\n",
      "Adding attribute famsize\n",
      "Adding attribute goout\n",
      "Adding attribute Fjob\n",
      "Adding attribute Medu\n",
      "Adding attribute Pstatus\n",
      "Adding attribute studytime\n",
      "========================== BN constructed ==========================\n",
      "Fitting copula_gan...\n",
      "\n",
      "Time taken to fit copula_gan: 11.67 seconds\n",
      "\n",
      "Fitting ctgan...\n",
      "\n",
      "Time taken to fit ctgan: 10.99 seconds\n",
      "\n",
      "Fitting tvae...\n",
      "\n",
      "Time taken to fit tvae: 2.78 seconds\n",
      "\n",
      "Fitting gaussian_copula...\n",
      "\n",
      "Time taken to fit gaussian_copula: 0.71 seconds\n",
      "\n"
     ]
    }
   ],
   "source": [
    "# Set the start method of the multiprocessing module to 'fork' to avoid an error\n",
    "multiprocessing.set_start_method('fork', force=True)\n",
    "\n",
    "synth_path = \"../data/synthetic_data/5_portuguese_school/\"\n",
    "dataset_name = \"5_portuguese_school\"\n",
    "csv_files = [file for file in os.listdir(synth_path) if file.endswith(\".csv\")]\n",
    "\n",
    "# Number of samples to generate\n",
    "n = len(train_data)\n",
    "\n",
    "if len(csv_files) == 0:\n",
    "    # Use train_data.csv to fit SDG models and generate synthetic data\n",
    "    data_path = original_data_path + \"train_data.csv\"\n",
    "    arguments = [data_path, str(n), dataset_name]\n",
    "\n",
    "    print(\"Sampling synthpop...\")\n",
    "    result = subprocess.run(['Rscript', '../src/generation/synthpop.R',   *arguments], capture_output=True, text=True)\n",
    "\n",
    "    print(\"Sampling DataSynthesizer...\")\n",
    "    ds_generate_data(data_path=data_path, num_samples=n, dataset_name=dataset_name)\n",
    "\n",
    "    sdv_generate_data(data_path=data_path, num_samples=n, dataset_name=dataset_name)\n",
    "else:\n",
    "    print(\"Synthetic data already exists.\")"
   ]
  },
  {
   "cell_type": "markdown",
   "metadata": {},
   "source": [
    "Encode all categorical columns of both original (train+test) data and synthetic data using label encoding"
   ]
  },
  {
   "cell_type": "code",
   "execution_count": 10,
   "metadata": {},
   "outputs": [],
   "source": [
    "# Load the synthetic data as dataframe\n",
    "synthpop = pd.read_csv(synth_path + \"synthpop.csv\")\n",
    "ds = pd.read_csv(synth_path + \"ds.csv\")\n",
    "tvae = pd.read_csv(synth_path + \"tvae.csv\")\n",
    "gaussian_copula = pd.read_csv(synth_path + \"gaussian_copula.csv\")\n",
    "copula_gan = pd.read_csv(synth_path + \"copula_gan.csv\")\n",
    "ctgan = pd.read_csv(synth_path + \"ctgan.csv\")\n",
    "\n",
    "label_encoders = {}\n",
    "for col in categorical_cols:\n",
    "    le = LabelEncoder()\n",
    "    train_data[col] = le.fit_transform(train_data[col])\n",
    "    test_data[col] = le.fit_transform(test_data[col])\n",
    "\n",
    "    synthpop[col] = le.fit_transform(synthpop[col])\n",
    "    ds[col] = le.fit_transform(ds[col])\n",
    "    tvae[col] = le.fit_transform(tvae[col])\n",
    "    gaussian_copula[col] = le.fit_transform(gaussian_copula[col])\n",
    "    copula_gan[col] = le.fit_transform(copula_gan[col])\n",
    "    ctgan[col] = le.fit_transform(ctgan[col])\n",
    "\n",
    "    label_encoders[col] = le\n"
   ]
  },
  {
   "cell_type": "code",
   "execution_count": 17,
   "metadata": {},
   "outputs": [
    {
     "data": {
      "text/plain": [
       "18"
      ]
     },
     "execution_count": 17,
     "metadata": {},
     "output_type": "execute_result"
    }
   ],
   "source": [
    "train_data[\"G3\"].nunique()"
   ]
  },
  {
   "cell_type": "code",
   "execution_count": 18,
   "metadata": {},
   "outputs": [
    {
     "data": {
      "text/plain": [
       "15"
      ]
     },
     "execution_count": 18,
     "metadata": {},
     "output_type": "execute_result"
    }
   ],
   "source": [
    "tvae[\"G3\"].nunique()"
   ]
  },
  {
   "cell_type": "markdown",
   "metadata": {},
   "source": [
    "### **Utility Evaluation**\n",
    "\n",
    "In order to evaluate the utility of the synthetic datasets, the following steps will executed three times, each time with a different ML model.\n",
    "\n",
    "1. Two models are trained: one using the original train data and the other one using synthetic data.\n",
    "2. The two different models will predict the target column using the test split.\n",
    "3. The difference in performance between the two models will be reported via accuracy diff, f1-score diff, and auc-roc diff"
   ]
  },
  {
   "cell_type": "code",
   "execution_count": 19,
   "metadata": {},
   "outputs": [],
   "source": [
    "synth_datasets = [synthpop, ds, tvae, gaussian_copula, copula_gan, ctgan]\n",
    "model_names = [\"synthpop\", \"ds\", \"tvae\", \"gaussian_copula\", \"copula_gan\", \"ctgan\"]\n",
    "target_col = \"G3\"\n",
    "\n",
    "quantiles = train_data[target_col].quantile([0, 0.5, 0.8, 1]).values\n",
    "\n",
    "train_data[target_col] = pd.cut(train_data[target_col], bins=quantiles, labels=[0, 1, 2], include_lowest=True)\n",
    "test_data[target_col] = pd.cut(test_data[target_col], bins=quantiles, labels=[0, 1, 2], include_lowest=True)\n",
    "train_data.drop([\"G1\", \"G2\"], axis=1, inplace=True)\n",
    "test_data.drop([\"G1\", \"G2\"], axis=1, inplace=True)\n",
    "\n",
    "for synth_dataset in synth_datasets:\n",
    "    synth_dataset[target_col] = pd.cut(synth_dataset[target_col], bins=quantiles, labels=[0, 1, 2], include_lowest=True)\n",
    "    synth_dataset.drop([\"G1\", \"G2\"], axis=1, inplace=True)"
   ]
  },
  {
   "cell_type": "code",
   "execution_count": 22,
   "metadata": {},
   "outputs": [
    {
     "data": {
      "text/plain": [
       "school         2\n",
       "sex            2\n",
       "age            8\n",
       "address        2\n",
       "famsize        2\n",
       "Pstatus        2\n",
       "Medu           5\n",
       "Fedu           5\n",
       "Mjob           5\n",
       "Fjob           5\n",
       "reason         4\n",
       "guardian       3\n",
       "traveltime     4\n",
       "studytime      4\n",
       "failures       4\n",
       "schoolsup      2\n",
       "famsup         2\n",
       "paid           2\n",
       "activities     2\n",
       "nursery        2\n",
       "higher         2\n",
       "internet       2\n",
       "romantic       2\n",
       "famrel         5\n",
       "freetime       5\n",
       "goout          5\n",
       "Dalc           5\n",
       "Walc           5\n",
       "health         5\n",
       "absences      31\n",
       "G3             3\n",
       "dtype: int64"
      ]
     },
     "execution_count": 22,
     "metadata": {},
     "output_type": "execute_result"
    }
   ],
   "source": [
    "train_data.nunique()"
   ]
  },
  {
   "cell_type": "code",
   "execution_count": 24,
   "metadata": {},
   "outputs": [
    {
     "data": {
      "text/html": [
       "<div>\n",
       "<style scoped>\n",
       "    .dataframe tbody tr th:only-of-type {\n",
       "        vertical-align: middle;\n",
       "    }\n",
       "\n",
       "    .dataframe tbody tr th {\n",
       "        vertical-align: top;\n",
       "    }\n",
       "\n",
       "    .dataframe thead th {\n",
       "        text-align: right;\n",
       "    }\n",
       "</style>\n",
       "<table border=\"1\" class=\"dataframe\">\n",
       "  <thead>\n",
       "    <tr style=\"text-align: right;\">\n",
       "      <th></th>\n",
       "      <th>school</th>\n",
       "      <th>sex</th>\n",
       "      <th>age</th>\n",
       "      <th>address</th>\n",
       "      <th>famsize</th>\n",
       "      <th>Pstatus</th>\n",
       "      <th>Medu</th>\n",
       "      <th>Fedu</th>\n",
       "      <th>Mjob</th>\n",
       "      <th>Fjob</th>\n",
       "      <th>...</th>\n",
       "      <th>internet</th>\n",
       "      <th>romantic</th>\n",
       "      <th>famrel</th>\n",
       "      <th>freetime</th>\n",
       "      <th>goout</th>\n",
       "      <th>Dalc</th>\n",
       "      <th>Walc</th>\n",
       "      <th>health</th>\n",
       "      <th>absences</th>\n",
       "      <th>G3</th>\n",
       "    </tr>\n",
       "  </thead>\n",
       "  <tbody>\n",
       "    <tr>\n",
       "      <th>0</th>\n",
       "      <td>0</td>\n",
       "      <td>1</td>\n",
       "      <td>16</td>\n",
       "      <td>0</td>\n",
       "      <td>0</td>\n",
       "      <td>0</td>\n",
       "      <td>4</td>\n",
       "      <td>4</td>\n",
       "      <td>1</td>\n",
       "      <td>0</td>\n",
       "      <td>...</td>\n",
       "      <td>0</td>\n",
       "      <td>0</td>\n",
       "      <td>4</td>\n",
       "      <td>3</td>\n",
       "      <td>2</td>\n",
       "      <td>1</td>\n",
       "      <td>1</td>\n",
       "      <td>5</td>\n",
       "      <td>0</td>\n",
       "      <td>1</td>\n",
       "    </tr>\n",
       "    <tr>\n",
       "      <th>1</th>\n",
       "      <td>0</td>\n",
       "      <td>1</td>\n",
       "      <td>16</td>\n",
       "      <td>0</td>\n",
       "      <td>0</td>\n",
       "      <td>0</td>\n",
       "      <td>2</td>\n",
       "      <td>2</td>\n",
       "      <td>1</td>\n",
       "      <td>0</td>\n",
       "      <td>...</td>\n",
       "      <td>0</td>\n",
       "      <td>0</td>\n",
       "      <td>4</td>\n",
       "      <td>4</td>\n",
       "      <td>5</td>\n",
       "      <td>1</td>\n",
       "      <td>1</td>\n",
       "      <td>5</td>\n",
       "      <td>3</td>\n",
       "      <td>0</td>\n",
       "    </tr>\n",
       "    <tr>\n",
       "      <th>2</th>\n",
       "      <td>0</td>\n",
       "      <td>0</td>\n",
       "      <td>16</td>\n",
       "      <td>0</td>\n",
       "      <td>0</td>\n",
       "      <td>0</td>\n",
       "      <td>2</td>\n",
       "      <td>2</td>\n",
       "      <td>1</td>\n",
       "      <td>0</td>\n",
       "      <td>...</td>\n",
       "      <td>0</td>\n",
       "      <td>0</td>\n",
       "      <td>4</td>\n",
       "      <td>3</td>\n",
       "      <td>2</td>\n",
       "      <td>1</td>\n",
       "      <td>1</td>\n",
       "      <td>5</td>\n",
       "      <td>1</td>\n",
       "      <td>0</td>\n",
       "    </tr>\n",
       "    <tr>\n",
       "      <th>3</th>\n",
       "      <td>0</td>\n",
       "      <td>1</td>\n",
       "      <td>17</td>\n",
       "      <td>0</td>\n",
       "      <td>0</td>\n",
       "      <td>0</td>\n",
       "      <td>1</td>\n",
       "      <td>1</td>\n",
       "      <td>1</td>\n",
       "      <td>0</td>\n",
       "      <td>...</td>\n",
       "      <td>0</td>\n",
       "      <td>0</td>\n",
       "      <td>4</td>\n",
       "      <td>4</td>\n",
       "      <td>5</td>\n",
       "      <td>1</td>\n",
       "      <td>5</td>\n",
       "      <td>5</td>\n",
       "      <td>2</td>\n",
       "      <td>0</td>\n",
       "    </tr>\n",
       "    <tr>\n",
       "      <th>4</th>\n",
       "      <td>0</td>\n",
       "      <td>0</td>\n",
       "      <td>16</td>\n",
       "      <td>0</td>\n",
       "      <td>0</td>\n",
       "      <td>0</td>\n",
       "      <td>4</td>\n",
       "      <td>2</td>\n",
       "      <td>1</td>\n",
       "      <td>0</td>\n",
       "      <td>...</td>\n",
       "      <td>0</td>\n",
       "      <td>0</td>\n",
       "      <td>4</td>\n",
       "      <td>3</td>\n",
       "      <td>3</td>\n",
       "      <td>1</td>\n",
       "      <td>1</td>\n",
       "      <td>5</td>\n",
       "      <td>2</td>\n",
       "      <td>0</td>\n",
       "    </tr>\n",
       "  </tbody>\n",
       "</table>\n",
       "<p>5 rows × 31 columns</p>\n",
       "</div>"
      ],
      "text/plain": [
       "   school  sex  age  address  famsize  Pstatus  Medu  Fedu  Mjob  Fjob  ...  \\\n",
       "0       0    1   16        0        0        0     4     4     1     0  ...   \n",
       "1       0    1   16        0        0        0     2     2     1     0  ...   \n",
       "2       0    0   16        0        0        0     2     2     1     0  ...   \n",
       "3       0    1   17        0        0        0     1     1     1     0  ...   \n",
       "4       0    0   16        0        0        0     4     2     1     0  ...   \n",
       "\n",
       "   internet  romantic  famrel  freetime  goout  Dalc  Walc  health  absences  \\\n",
       "0         0         0       4         3      2     1     1       5         0   \n",
       "1         0         0       4         4      5     1     1       5         3   \n",
       "2         0         0       4         3      2     1     1       5         1   \n",
       "3         0         0       4         4      5     1     5       5         2   \n",
       "4         0         0       4         3      3     1     1       5         2   \n",
       "\n",
       "   G3  \n",
       "0   1  \n",
       "1   0  \n",
       "2   0  \n",
       "3   0  \n",
       "4   0  \n",
       "\n",
       "[5 rows x 31 columns]"
      ]
     },
     "execution_count": 24,
     "metadata": {},
     "output_type": "execute_result"
    }
   ],
   "source": [
    "tvae.head()"
   ]
  },
  {
   "cell_type": "markdown",
   "metadata": {},
   "source": [
    "Run random forest classifier for utility evaluation"
   ]
  },
  {
   "cell_type": "code",
   "execution_count": 25,
   "metadata": {},
   "outputs": [
    {
     "data": {
      "text/html": [
       "<div>\n",
       "<style scoped>\n",
       "    .dataframe tbody tr th:only-of-type {\n",
       "        vertical-align: middle;\n",
       "    }\n",
       "\n",
       "    .dataframe tbody tr th {\n",
       "        vertical-align: top;\n",
       "    }\n",
       "\n",
       "    .dataframe thead th {\n",
       "        text-align: right;\n",
       "    }\n",
       "</style>\n",
       "<table border=\"1\" class=\"dataframe\">\n",
       "  <thead>\n",
       "    <tr style=\"text-align: right;\">\n",
       "      <th></th>\n",
       "      <th>Dataset</th>\n",
       "      <th>Model</th>\n",
       "      <th>Accuracy Difference</th>\n",
       "      <th>F1 Score Difference</th>\n",
       "      <th>ROC AUC Difference</th>\n",
       "    </tr>\n",
       "  </thead>\n",
       "  <tbody>\n",
       "    <tr>\n",
       "      <th>24</th>\n",
       "      <td>5</td>\n",
       "      <td>synthpop</td>\n",
       "      <td>0.04</td>\n",
       "      <td>0.08</td>\n",
       "      <td>0.20</td>\n",
       "    </tr>\n",
       "    <tr>\n",
       "      <th>25</th>\n",
       "      <td>5</td>\n",
       "      <td>ds</td>\n",
       "      <td>0.03</td>\n",
       "      <td>0.08</td>\n",
       "      <td>0.14</td>\n",
       "    </tr>\n",
       "    <tr>\n",
       "      <th>26</th>\n",
       "      <td>5</td>\n",
       "      <td>tvae</td>\n",
       "      <td>0.04</td>\n",
       "      <td>0.03</td>\n",
       "      <td>0.16</td>\n",
       "    </tr>\n",
       "    <tr>\n",
       "      <th>27</th>\n",
       "      <td>5</td>\n",
       "      <td>gaussian_copula</td>\n",
       "      <td>0.12</td>\n",
       "      <td>0.07</td>\n",
       "      <td>0.17</td>\n",
       "    </tr>\n",
       "    <tr>\n",
       "      <th>28</th>\n",
       "      <td>5</td>\n",
       "      <td>copula_gan</td>\n",
       "      <td>0.00</td>\n",
       "      <td>0.08</td>\n",
       "      <td>0.26</td>\n",
       "    </tr>\n",
       "    <tr>\n",
       "      <th>29</th>\n",
       "      <td>5</td>\n",
       "      <td>ctgan</td>\n",
       "      <td>0.30</td>\n",
       "      <td>0.27</td>\n",
       "      <td>0.24</td>\n",
       "    </tr>\n",
       "  </tbody>\n",
       "</table>\n",
       "</div>"
      ],
      "text/plain": [
       "    Dataset            Model  Accuracy Difference  F1 Score Difference  \\\n",
       "24        5         synthpop                 0.04                 0.08   \n",
       "25        5               ds                 0.03                 0.08   \n",
       "26        5             tvae                 0.04                 0.03   \n",
       "27        5  gaussian_copula                 0.12                 0.07   \n",
       "28        5       copula_gan                 0.00                 0.08   \n",
       "29        5            ctgan                 0.30                 0.27   \n",
       "\n",
       "    ROC AUC Difference  \n",
       "24                0.20  \n",
       "25                0.14  \n",
       "26                0.16  \n",
       "27                0.17  \n",
       "28                0.26  \n",
       "29                0.24  "
      ]
     },
     "execution_count": 25,
     "metadata": {},
     "output_type": "execute_result"
    }
   ],
   "source": [
    "rf_results = {}\n",
    "rows = []\n",
    "rf_df = pd.read_csv(\"../data/results/tables/rf.csv\")\n",
    "\n",
    "if (rf_df[\"Dataset\"] == 5).any():\n",
    "    print(\"Entry for 5 Portuguese School already exists.\")\n",
    "else:\n",
    "    for i, synth_data in enumerate(synth_datasets):\n",
    "        rf_results[model_names[i]] = run_utility_eval(train_data, test_data, synth_data, target_col, \"random_forest\")\n",
    "\n",
    "        acc_diff = rf_results[model_names[i]][\"acc_diff\"]\n",
    "        f1_diff = rf_results[model_names[i]][\"f1_diff\"]\n",
    "        roc_auc_diff = rf_results[model_names[i]][\"roc_auc_diff\"]\n",
    "\n",
    "        rows.append([5, model_names[i], acc_diff, f1_diff, roc_auc_diff])\n",
    "\n",
    "    rows = pd.DataFrame(rows, columns=rf_df.columns)\n",
    "    rf_df = pd.concat([rf_df, rows], ignore_index=True)\n",
    "    rf_df.to_csv(\"../data/results/tables/rf.csv\", index=False)\n",
    "\n",
    "rf_df.tail(6)"
   ]
  },
  {
   "cell_type": "markdown",
   "metadata": {},
   "source": [
    "Run logistic regression for utility evaluation"
   ]
  },
  {
   "cell_type": "code",
   "execution_count": 26,
   "metadata": {},
   "outputs": [
    {
     "data": {
      "text/html": [
       "<div>\n",
       "<style scoped>\n",
       "    .dataframe tbody tr th:only-of-type {\n",
       "        vertical-align: middle;\n",
       "    }\n",
       "\n",
       "    .dataframe tbody tr th {\n",
       "        vertical-align: top;\n",
       "    }\n",
       "\n",
       "    .dataframe thead th {\n",
       "        text-align: right;\n",
       "    }\n",
       "</style>\n",
       "<table border=\"1\" class=\"dataframe\">\n",
       "  <thead>\n",
       "    <tr style=\"text-align: right;\">\n",
       "      <th></th>\n",
       "      <th>Dataset</th>\n",
       "      <th>Model</th>\n",
       "      <th>Accuracy Difference</th>\n",
       "      <th>F1 Score Difference</th>\n",
       "      <th>ROC AUC Difference</th>\n",
       "    </tr>\n",
       "  </thead>\n",
       "  <tbody>\n",
       "    <tr>\n",
       "      <th>0</th>\n",
       "      <td>5</td>\n",
       "      <td>synthpop</td>\n",
       "      <td>0.14</td>\n",
       "      <td>0.14</td>\n",
       "      <td>0.16</td>\n",
       "    </tr>\n",
       "    <tr>\n",
       "      <th>1</th>\n",
       "      <td>5</td>\n",
       "      <td>ds</td>\n",
       "      <td>0.31</td>\n",
       "      <td>0.26</td>\n",
       "      <td>0.13</td>\n",
       "    </tr>\n",
       "    <tr>\n",
       "      <th>2</th>\n",
       "      <td>5</td>\n",
       "      <td>tvae</td>\n",
       "      <td>0.25</td>\n",
       "      <td>0.24</td>\n",
       "      <td>0.12</td>\n",
       "    </tr>\n",
       "    <tr>\n",
       "      <th>3</th>\n",
       "      <td>5</td>\n",
       "      <td>gaussian_copula</td>\n",
       "      <td>0.27</td>\n",
       "      <td>0.25</td>\n",
       "      <td>0.15</td>\n",
       "    </tr>\n",
       "    <tr>\n",
       "      <th>4</th>\n",
       "      <td>5</td>\n",
       "      <td>copula_gan</td>\n",
       "      <td>0.08</td>\n",
       "      <td>0.20</td>\n",
       "      <td>0.24</td>\n",
       "    </tr>\n",
       "    <tr>\n",
       "      <th>5</th>\n",
       "      <td>5</td>\n",
       "      <td>ctgan</td>\n",
       "      <td>0.33</td>\n",
       "      <td>0.33</td>\n",
       "      <td>0.20</td>\n",
       "    </tr>\n",
       "  </tbody>\n",
       "</table>\n",
       "</div>"
      ],
      "text/plain": [
       "   Dataset            Model  Accuracy Difference  F1 Score Difference  \\\n",
       "0        5         synthpop                 0.14                 0.14   \n",
       "1        5               ds                 0.31                 0.26   \n",
       "2        5             tvae                 0.25                 0.24   \n",
       "3        5  gaussian_copula                 0.27                 0.25   \n",
       "4        5       copula_gan                 0.08                 0.20   \n",
       "5        5            ctgan                 0.33                 0.33   \n",
       "\n",
       "   ROC AUC Difference  \n",
       "0                0.16  \n",
       "1                0.13  \n",
       "2                0.12  \n",
       "3                0.15  \n",
       "4                0.24  \n",
       "5                0.20  "
      ]
     },
     "execution_count": 26,
     "metadata": {},
     "output_type": "execute_result"
    }
   ],
   "source": [
    "lr_results = {}\n",
    "lr_df = pd.read_csv(\"../data/results/tables/lr.csv\")\n",
    "rows = []\n",
    "\n",
    "if (lr_df[\"Dataset\"] == 5).any():\n",
    "    print(\"Entry for 5 Portuguese School already exists.\")\n",
    "else:\n",
    "    for i, synth_data in enumerate(synth_datasets):\n",
    "        lr_results[model_names[i]] = run_utility_eval(train_data, test_data, synth_data, target_col, \"logistic_regression\")\n",
    "\n",
    "        acc_diff = lr_results[model_names[i]][\"acc_diff\"]\n",
    "        f1_diff = lr_results[model_names[i]][\"f1_diff\"]\n",
    "        roc_auc_diff = lr_results[model_names[i]][\"roc_auc_diff\"]\n",
    "\n",
    "        rows.append([5, model_names[i], acc_diff, f1_diff, roc_auc_diff])\n",
    "\n",
    "    rows = pd.DataFrame(rows, columns=lr_df.columns)\n",
    "    lr_df = pd.concat([lr_df, rows])\n",
    "    lr_df.to_csv(\"../data/results/tables/lr.csv\", index=False)\n",
    "\n",
    "lr_df.tail(6)"
   ]
  },
  {
   "cell_type": "markdown",
   "metadata": {},
   "source": [
    "Run multilayer perceptron (MLP)"
   ]
  },
  {
   "cell_type": "code",
   "execution_count": 27,
   "metadata": {},
   "outputs": [
    {
     "name": "stdout",
     "output_type": "stream",
     "text": [
      "Entry for 5 Portuguese School already exists.\n"
     ]
    },
    {
     "data": {
      "text/html": [
       "<div>\n",
       "<style scoped>\n",
       "    .dataframe tbody tr th:only-of-type {\n",
       "        vertical-align: middle;\n",
       "    }\n",
       "\n",
       "    .dataframe tbody tr th {\n",
       "        vertical-align: top;\n",
       "    }\n",
       "\n",
       "    .dataframe thead th {\n",
       "        text-align: right;\n",
       "    }\n",
       "</style>\n",
       "<table border=\"1\" class=\"dataframe\">\n",
       "  <thead>\n",
       "    <tr style=\"text-align: right;\">\n",
       "      <th></th>\n",
       "      <th>Dataset</th>\n",
       "      <th>Model</th>\n",
       "      <th>Accuracy Difference</th>\n",
       "      <th>F1 Score Difference</th>\n",
       "      <th>ROC AUC Difference</th>\n",
       "    </tr>\n",
       "  </thead>\n",
       "  <tbody>\n",
       "    <tr>\n",
       "      <th>23</th>\n",
       "      <td>5</td>\n",
       "      <td>synthpop</td>\n",
       "      <td>0.14</td>\n",
       "      <td>0.14</td>\n",
       "      <td>0.16</td>\n",
       "    </tr>\n",
       "    <tr>\n",
       "      <th>24</th>\n",
       "      <td>5</td>\n",
       "      <td>ds</td>\n",
       "      <td>0.31</td>\n",
       "      <td>0.26</td>\n",
       "      <td>0.13</td>\n",
       "    </tr>\n",
       "    <tr>\n",
       "      <th>25</th>\n",
       "      <td>5</td>\n",
       "      <td>tvae</td>\n",
       "      <td>0.25</td>\n",
       "      <td>0.24</td>\n",
       "      <td>0.12</td>\n",
       "    </tr>\n",
       "    <tr>\n",
       "      <th>26</th>\n",
       "      <td>5</td>\n",
       "      <td>gaussian_copula</td>\n",
       "      <td>0.27</td>\n",
       "      <td>0.25</td>\n",
       "      <td>0.15</td>\n",
       "    </tr>\n",
       "    <tr>\n",
       "      <th>27</th>\n",
       "      <td>5</td>\n",
       "      <td>copula_gan</td>\n",
       "      <td>0.08</td>\n",
       "      <td>0.20</td>\n",
       "      <td>0.24</td>\n",
       "    </tr>\n",
       "    <tr>\n",
       "      <th>28</th>\n",
       "      <td>5</td>\n",
       "      <td>ctgan</td>\n",
       "      <td>0.33</td>\n",
       "      <td>0.33</td>\n",
       "      <td>0.20</td>\n",
       "    </tr>\n",
       "  </tbody>\n",
       "</table>\n",
       "</div>"
      ],
      "text/plain": [
       "    Dataset            Model  Accuracy Difference  F1 Score Difference  \\\n",
       "23        5         synthpop                 0.14                 0.14   \n",
       "24        5               ds                 0.31                 0.26   \n",
       "25        5             tvae                 0.25                 0.24   \n",
       "26        5  gaussian_copula                 0.27                 0.25   \n",
       "27        5       copula_gan                 0.08                 0.20   \n",
       "28        5            ctgan                 0.33                 0.33   \n",
       "\n",
       "    ROC AUC Difference  \n",
       "23                0.16  \n",
       "24                0.13  \n",
       "25                0.12  \n",
       "26                0.15  \n",
       "27                0.24  \n",
       "28                0.20  "
      ]
     },
     "execution_count": 27,
     "metadata": {},
     "output_type": "execute_result"
    }
   ],
   "source": [
    "mlp_results = {}\n",
    "mlp_df = pd.read_csv(\"../data/results/tables/mlp.csv\")\n",
    "rows = []\n",
    "\n",
    "if (mlp_df[\"Dataset\"] == 5).any():\n",
    "    print(\"Entry for 5 Portuguese School already exists.\")\n",
    "else:\n",
    "    for i, synth_data in enumerate(synth_datasets):\n",
    "        mlp_results[model_names[i]] = run_utility_eval(train_data, test_data, synth_data, target_col, \"multilayer_perceptron\")\n",
    "\n",
    "        acc_diff = mlp_results[model_names[i]][\"acc_diff\"]\n",
    "        f1_diff = mlp_results[model_names[i]][\"f1_diff\"]\n",
    "        roc_auc_diff = mlp_results[model_names[i]][\"roc_auc_diff\"]\n",
    "\n",
    "        rows.append([5, model_names[i], acc_diff, f1_diff, roc_auc_diff])\n",
    "\n",
    "    rows = pd.DataFrame(rows, columns=mlp_df.columns)\n",
    "    mlp_df = pd.concat([mlp_df, rows])\n",
    "    mlp_df.to_csv(\"../data/results/tables/lr.csv\", index=False)\n",
    "\n",
    "mlp_df.tail(6)"
   ]
  },
  {
   "cell_type": "markdown",
   "metadata": {},
   "source": [
    "### **Resemblance**\n",
    "\n",
    "The resemblance dimension includes mutliple distance metrics to measure the similarity of the synthetic and real data: **Difference in pairwise correlation, Jensen-Shannon divergence, Wasserstein distance**\n",
    "\n",
    "- **Difference in pairwise correlation** is used to measure how well feature-interactions are preserved within synthetic data. First the pairwise correlation matrices for each real and synthetic data is computed. Pearson correlation coefficient is used for continuous features ( [-1,1] range) and the Theil uncer-\n",
    "tainty coefficient ([0,1] range) for categorical features\n",
    "    - lower (difference) values are better\n",
    "- **JSD** is a method for measuring similarity between two probability distributions. It is based on Kullback-Leibler divergence, but has several benefits like being symmetric and having finite values. Values are bounded between 0 and 1, where values close to 0 indicate high similarity and values close to 1 indicate almost no similarity between the distributions.\n",
    "    - lower values are better\n",
    "- **WD** is used to compare the distributions of two continuous/mixed variables, where one variable is derived from the other → how well the synthetic data emulates the distribution of the\n",
    "individual variables\n",
    "    - lower values are better\n",
    "**Difference in pairwise correlation:**"
   ]
  },
  {
   "cell_type": "code",
   "execution_count": 40,
   "metadata": {},
   "outputs": [
    {
     "name": "stdout",
     "output_type": "stream",
     "text": [
      "Entry for 5 Portuguese School already exists.\n"
     ]
    }
   ],
   "source": [
    "corr_diff_df = pd.read_csv(\"../data/results/tables/corr_diff.csv\")\n",
    "rows = []\n",
    "\n",
    "if (corr_diff_df[\"Dataset\"] == 5).any():\n",
    "    print(\"Entry for 5 Portuguese School already exists.\")\n",
    "else:\n",
    "    for i, synth_data in enumerate(synth_datasets):\n",
    "        result = pairwise_correlation_diff(train_data, synth_data)\n",
    "        rows.append([5,model_names[i], result])\n",
    "\n",
    "    rows = pd.DataFrame(rows, columns=corr_diff_df.columns)\n",
    "    corr_diff_df = pd.concat([corr_diff_df, rows])\n",
    "    corr_diff_df.to_csv(\"../data/results/tables/corr_diff.csv\", index=False)\n",
    "\n",
    "corr_diff_df.tail(6)"
   ]
  },
  {
   "cell_type": "markdown",
   "metadata": {},
   "source": [
    "**Jensen-Shannon Divergence**"
   ]
  },
  {
   "cell_type": "code",
   "execution_count": 41,
   "metadata": {},
   "outputs": [
    {
     "name": "stdout",
     "output_type": "stream",
     "text": [
      "Entry for 5 Portuguese School already exists.\n"
     ]
    }
   ],
   "source": [
    "jsd_df = pd.read_csv(\"../data/results/tables/jsd.csv\")\n",
    "rows = []\n",
    "\n",
    "if (jsd_df[\"Dataset\"] == 5).any():\n",
    "    print(\"Entry for 5 Portuguese School already exists.\")\n",
    "else:\n",
    "    for i, synth_data in enumerate(synth_datasets):\n",
    "        result = jsd(train_data, synth_data)\n",
    "        rows.append([5,model_names[i], result])\n",
    "\n",
    "    rows = pd.DataFrame(rows, columns=jsd_df.columns)\n",
    "    jsd_df = pd.concat([jsd_df, rows])\n",
    "    jsd_df.to_csv(\"../data/results/tables/jsd.csv\", index=False)\n",
    "\n",
    "jsd_df.tail(6)"
   ]
  },
  {
   "cell_type": "markdown",
   "metadata": {},
   "source": [
    "**Wasserstein Distance**"
   ]
  },
  {
   "cell_type": "code",
   "execution_count": 42,
   "metadata": {},
   "outputs": [
    {
     "name": "stdout",
     "output_type": "stream",
     "text": [
      "Entry for 5 Portuguese School already exists.\n"
     ]
    }
   ],
   "source": [
    "wd_df = pd.read_csv(\"../data/results/tables/wd.csv\")\n",
    "rows = []\n",
    "\n",
    "if (wd_df[\"Dataset\"] == 5).any():\n",
    "    print(\"Entry for 5 Portuguese School already exists.\")\n",
    "else:\n",
    "    for i, synth_data in enumerate(synth_datasets):\n",
    "        result = wd(train_data, synth_data)\n",
    "        rows.append([5,model_names[i], result])\n",
    "\n",
    "    rows = pd.DataFrame(rows, columns=wd_df.columns)\n",
    "    wd_df = pd.concat([wd_df, rows])\n",
    "    wd_df.to_csv(\"../data/results/tables/wd.csv\", index=False)\n",
    "\n",
    "wd_df.tail(6)"
   ]
  },
  {
   "cell_type": "markdown",
   "metadata": {},
   "source": [
    "### **Privacy**\n",
    "\n",
    "To assess the privacy aspect of the synthetic data the metrics **Distance to closest Record (DCR)**, **Nearest Neighbour Difference Ratio (NNDR)** and **Membership Inference Attack (MIA)** will be used. \n",
    "\n",
    "- In **DCR** the euclidean distance between\n",
    "each record in original and synthetic dataset is computed. DCR is the minimum distance between a synthetic record and a original record. \n",
    "    - A value of zero indicates that the synthetic record is an identical copy of the original one -> leak of real information, higher values indicate more privacy\n",
    "\n",
    "- **NNDR** is ratio between nearest and second nearest real neighbour to any corresponding synthetic record (NNDR(s) = d1/d2) and is within [0,1]\n",
    "    - higher values indicate better privacy\n",
    "\n",
    "- **MIA** is used to assess the disclosure risk by assuming that an attacker has access to all the records of the synthetic data and to a random subset of the original data. Using a real record the attacker then tries to find the closest record in the synthetic dataset. If there is any distance below some threshold, the attacker can assume that the corresponding real record was used to generate the synthetic data.\n",
    "    - For strong privacy preservation both accuracy and precision should be below 0.5 for all thresholds"
   ]
  },
  {
   "cell_type": "markdown",
   "metadata": {},
   "source": [
    "**Distance to closest record (DCR)**"
   ]
  },
  {
   "cell_type": "code",
   "execution_count": 43,
   "metadata": {},
   "outputs": [
    {
     "name": "stdout",
     "output_type": "stream",
     "text": [
      "Entry for 5 Portuguese School already exists.\n"
     ]
    }
   ],
   "source": [
    "dcr_df = pd.read_csv(\"../data/results/tables/dcr.csv\")\n",
    "rows = []\n",
    "if (dcr_df[\"Dataset\"] == 5).any():\n",
    "    print(\"Entry for 5 Portuguese School already exists.\")\n",
    "else:\n",
    "    for i, synth_data in enumerate(synth_datasets):\n",
    "        result = dcr(train_data, synth_data, model_names[i], dataset_name=dataset_name, save_hist=True)\n",
    "        result_within_real = dcr(train_data, synth_data, model_names[i], dataset_name=dataset_name, within=\"Original\", save_hist=True)\n",
    "        result_within_synth = dcr(train_data, synth_data, model_names[i], dataset_name=dataset_name, within=\"Synthetic\", save_hist=True)\n",
    "        rows.append([5,model_names[i], result, result_within_real, result_within_synth])\n",
    "\n",
    "    rows = pd.DataFrame(rows, columns=dcr_df.columns)\n",
    "    dcr_df = pd.concat([dcr_df, rows])\n",
    "    dcr_df.to_csv(\"../data/results/tables/dcr.csv\", index=False)\n",
    "\n",
    "dcr_df.tail(6)"
   ]
  },
  {
   "cell_type": "markdown",
   "metadata": {},
   "source": [
    "**Nearest Neighbor distance ratio (NNDR)**"
   ]
  },
  {
   "cell_type": "code",
   "execution_count": 44,
   "metadata": {},
   "outputs": [
    {
     "name": "stdout",
     "output_type": "stream",
     "text": [
      "Entry for 5 Portuguese School already exists.\n"
     ]
    }
   ],
   "source": [
    "nndr_df = pd.read_csv(\"../data/results/tables/nndr.csv\")\n",
    "rows = []\n",
    "if (nndr_df[\"Dataset\"] == 5).any():\n",
    "    print(\"Entry for 5 Portuguese School already exists.\")\n",
    "else:\n",
    "    for i, synth_data in enumerate(synth_datasets):\n",
    "        result = nndr(train_data, synth_data)\n",
    "        result_within_real = nndr(train_data, synth_data, within=\"Original\")\n",
    "        result_within_synth = nndr(train_data, synth_data, within=\"Synthetic\")\n",
    "        rows.append([5,model_names[i], result, result_within_real, result_within_synth])\n",
    "\n",
    "    rows = pd.DataFrame(rows, columns=nndr_df.columns)\n",
    "    nndr_df = pd.concat([nndr_df, rows])\n",
    "    nndr_df.to_csv(\"../data/results/tables/nndr.csv\", index=False)\n",
    "\n",
    "nndr_df.tail(6)"
   ]
  },
  {
   "cell_type": "markdown",
   "metadata": {},
   "source": [
    "**Membership Inference Attack (MIA)**"
   ]
  },
  {
   "cell_type": "code",
   "execution_count": 45,
   "metadata": {},
   "outputs": [
    {
     "name": "stdout",
     "output_type": "stream",
     "text": [
      "MIA results already exist.\n"
     ]
    }
   ],
   "source": [
    "import glob\n",
    "\n",
    "mia_results = {}\n",
    "mia_path = \"../data/results/plots/mia/5_portuguese_school/\"\n",
    "mia_files = glob.glob(os.path.join(mia_path, \"*.png\"))\n",
    "if (mia_files):\n",
    "    print(\"MIA results already exist.\")\n",
    "else:\n",
    "    for i, synth_dataset in enumerate(synth_datasets):\n",
    "        mia_results[model_names[i]] = mia(train_data, synth_dataset, model_names[i], dataset_name=dataset_name, save_plts=True)\n"
   ]
  },
  {
   "cell_type": "code",
   "execution_count": null,
   "metadata": {},
   "outputs": [],
   "source": []
  }
 ],
 "metadata": {
  "kernelspec": {
   "display_name": "bt-sdg",
   "language": "python",
   "name": "python3"
  },
  "language_info": {
   "codemirror_mode": {
    "name": "ipython",
    "version": 3
   },
   "file_extension": ".py",
   "mimetype": "text/x-python",
   "name": "python",
   "nbconvert_exporter": "python",
   "pygments_lexer": "ipython3",
   "version": "3.12.5"
  }
 },
 "nbformat": 4,
 "nbformat_minor": 2
}
